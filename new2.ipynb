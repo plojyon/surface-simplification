{
 "cells": [
  {
   "cell_type": "code",
   "execution_count": null,
   "metadata": {},
   "outputs": [],
   "source": [
    "using DataStructures\n",
    "using FileIO\n",
    "using Meshes\n",
    "using MeshIO\n",
    "using Makie\n",
    "using GLMakie\n",
    "using GeometryBasics\n",
    "using ProgressBars\n",
    "using JLD2\n",
    "using Serialization"
   ]
  },
  {
   "cell_type": "code",
   "execution_count": null,
   "metadata": {},
   "outputs": [],
   "source": [
    "include(\"contractions.jl\")\n",
    "include(\"visualisation.jl\")\n",
    "include(\"preprocessing.jl\")"
   ]
  },
  {
   "cell_type": "code",
   "execution_count": null,
   "metadata": {},
   "outputs": [],
   "source": [
    "bni = loadsc(\"ply/motorbike.ply\")\n",
    "for vertex in bni.coords\n",
    "    # rotate by 90 degrees around the x-axis\n",
    "    vertex[2], vertex[3] = vertex[2] * cos(π / 2) - vertex[3] * sin(π / 2), vertex[2] * sin(π / 2) + vertex[3] * cos(π / 2)\n",
    "end"
   ]
  },
  {
   "cell_type": "code",
   "execution_count": null,
   "metadata": {},
   "outputs": [],
   "source": [
    "border = getborder(bni)"
   ]
  },
  {
   "cell_type": "code",
   "execution_count": null,
   "metadata": {},
   "outputs": [],
   "source": [
    "pts = Set{GeometryBasics.Point3}()\n",
    "for edge in border\n",
    "    push!(pts, GeometryBasics.Point3(bni.coords[edge[1]]))\n",
    "    push!(pts, GeometryBasics.Point3(bni.coords[edge[2]]))\n",
    "end"
   ]
  },
  {
   "cell_type": "code",
   "execution_count": null,
   "metadata": {},
   "outputs": [],
   "source": [
    "include(\"visualisation.jl\")\n",
    "visualize(bni, [pts...], \"\")"
   ]
  },
  {
   "cell_type": "code",
   "execution_count": null,
   "metadata": {},
   "outputs": [],
   "source": []
  }
 ],
 "metadata": {
  "kernelspec": {
   "display_name": "Julia 1.11.2",
   "language": "julia",
   "name": "julia-1.11"
  },
  "language_info": {
   "file_extension": ".jl",
   "mimetype": "application/julia",
   "name": "julia",
   "version": "1.11.2"
  }
 },
 "nbformat": 4,
 "nbformat_minor": 2
}
