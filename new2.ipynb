{
 "cells": [
  {
   "cell_type": "code",
   "execution_count": 1,
   "metadata": {},
   "outputs": [],
   "source": [
    "using DataStructures\n",
    "using FileIO\n",
    "using Meshes\n",
    "using MeshIO\n",
    "using Makie\n",
    "using GLMakie\n",
    "using GeometryBasics\n",
    "using ProgressBars\n",
    "using JLD2\n",
    "using Serialization"
   ]
  },
  {
   "cell_type": "code",
   "execution_count": 9,
   "metadata": {},
   "outputs": [
    {
     "data": {
      "text/plain": [
       "loadsc (generic function with 1 method)"
      ]
     },
     "metadata": {},
     "output_type": "display_data"
    }
   ],
   "source": [
    "include(\"contractions.jl\")\n",
    "include(\"visualisation.jl\")\n",
    "include(\"preprocessing.jl\")"
   ]
  },
  {
   "cell_type": "code",
   "execution_count": 10,
   "metadata": {},
   "outputs": [
    {
     "name": "stderr",
     "output_type": "stream",
     "text": [
      "0.0%┣                                            ┫ 0/69.5k [00:00<00:-1, -0s/it]\n",
      "0.0%┣                                        ┫ 1/69.5k [00:00<Inf:Inf, InfGs/it]\n",
      "3.5%┣█▎                                    ┫ 2.4k/69.5k [00:00<00:03, 20.4kit/s]\n",
      "7.0%┣██▋                                   ┫ 4.8k/69.5k [00:00<00:02, 28.8kit/s]\n",
      "10.3%┣███▉                                 ┫ 7.2k/69.5k [00:00<00:02, 32.7kit/s]\n",
      "13.3%┣█████                                ┫ 9.3k/69.5k [00:00<00:02, 34.4kit/s]\n",
      "16.9%┣██████                              ┫ 11.8k/69.5k [00:00<00:02, 36.8kit/s]\n",
      "20.3%┣███████▎                            ┫ 14.1k/69.5k [00:00<00:01, 38.2kit/s]\n",
      "23.5%┣████████▌                           ┫ 16.4k/69.5k [00:00<00:01, 38.9kit/s]\n",
      "26.6%┣█████████▋                          ┫ 18.5k/69.5k [00:00<00:01, 39.3kit/s]\n",
      "29.7%┣██████████▊                         ┫ 20.6k/69.5k [00:01<00:01, 39.6kit/s]\n",
      "32.4%┣███████████▋                        ┫ 22.5k/69.5k [00:01<00:01, 39.4kit/s]\n",
      "34.5%┣████████████▍                       ┫ 24.0k/69.5k [00:01<00:01, 38.6kit/s]\n",
      "36.2%┣█████████████                       ┫ 25.1k/69.5k [00:01<00:01, 37.4kit/s]\n",
      "37.9%┣█████████████▋                      ┫ 26.4k/69.5k [00:01<00:01, 36.5kit/s]\n",
      "40.2%┣██████████████▌                     ┫ 27.9k/69.5k [00:01<00:01, 36.1kit/s]\n",
      "43.2%┣███████████████▋                    ┫ 30.0k/69.5k [00:01<00:01, 36.5kit/s]\n",
      "46.5%┣████████████████▊                   ┫ 32.3k/69.5k [00:01<00:01, 37.0kit/s]\n",
      "49.7%┣██████████████████                  ┫ 34.5k/69.5k [00:01<00:01, 37.4kit/s]\n",
      "52.8%┣███████████████████                 ┫ 36.6k/69.5k [00:01<00:01, 34.5kit/s]\n",
      "56.4%┣████████████████████▎               ┫ 39.2k/69.5k [00:01<00:01, 35.2kit/s]\n",
      "60.2%┣█████████████████████▋              ┫ 41.8k/69.5k [00:01<00:01, 35.9kit/s]\n",
      "63.5%┣██████████████████████▉             ┫ 44.1k/69.5k [00:01<00:01, 36.4kit/s]\n",
      "66.9%┣████████████████████████            ┫ 46.5k/69.5k [00:01<00:01, 36.8kit/s]\n",
      "70.3%┣█████████████████████████▎          ┫ 48.8k/69.5k [00:01<00:01, 37.2kit/s]\n",
      "73.9%┣██████████████████████████▋         ┫ 51.3k/69.5k [00:01<00:00, 37.6kit/s]\n",
      "77.3%┣███████████████████████████▉        ┫ 53.7k/69.5k [00:01<00:00, 38.0kit/s]\n",
      "80.8%┣█████████████████████████████       ┫ 56.1k/69.5k [00:01<00:00, 38.3kit/s]\n",
      "84.5%┣██████████████████████████████▍     ┫ 58.7k/69.5k [00:02<00:00, 38.7kit/s]\n",
      "88.2%┣███████████████████████████████▊    ┫ 61.3k/69.5k [00:02<00:00, 39.2kit/s]\n",
      "91.9%┣█████████████████████████████████   ┫ 63.8k/69.5k [00:02<00:00, 39.5kit/s]\n",
      "95.7%┣██████████████████████████████████▌ ┫ 66.5k/69.5k [00:02<00:00, 39.9kit/s]\n",
      "99.5%┣███████████████████████████████████▉┫ 69.1k/69.5k [00:02<00:00, 40.3kit/s]\n",
      "100.0%┣███████████████████████████████████┫ 69.5k/69.5k [00:02<00:00, 40.3kit/s]\n",
      "100.0%┣███████████████████████████████████┫ 69.5k/69.5k [00:02<00:00, 40.3kit/s]\n"
     ]
    }
   ],
   "source": [
    "bni = loadsc(\"ply/bunny.ply\")\n",
    "for vertex in bni.coords\n",
    "    # rotate by 90 degrees around the x-axis\n",
    "    vertex[2], vertex[3] = vertex[2] * cos(π / 2) - vertex[3] * sin(π / 2), vertex[2] * sin(π / 2) + vertex[3] * cos(π / 2)\n",
    "end"
   ]
  },
  {
   "cell_type": "code",
   "execution_count": 11,
   "metadata": {},
   "outputs": [
    {
     "data": {
      "text/plain": [
       "Set{Tuple{Int64, Int64}} with 223 elements:\n",
       "  (31923, 32324)\n",
       "  (34641, 34677)\n",
       "  (31966, 32255)\n",
       "  (15450, 32692)\n",
       "  (31791, 32017)\n",
       "  (20907, 21550)\n",
       "  (32578, 32579)\n",
       "  (32324, 32600)\n",
       "  (34408, 34451)\n",
       "  (34747, 34782)\n",
       "  (23609, 31649)\n",
       "  (4268, 19808)\n",
       "  (21625, 23018)\n",
       "  (21626, 23008)\n",
       "  (31964, 32777)\n",
       "  (31554, 32130)\n",
       "  (34357, 34407)\n",
       "  (33005, 33614)\n",
       "  (31917, 31918)\n",
       "  ⋮ "
      ]
     },
     "metadata": {},
     "output_type": "display_data"
    }
   ],
   "source": [
    "border = getborder(bni)"
   ]
  },
  {
   "cell_type": "code",
   "execution_count": 12,
   "metadata": {},
   "outputs": [
    {
     "data": {
      "text/plain": [
       "Set{Tuple{Int64, Int64}}()"
      ]
     },
     "metadata": {},
     "output_type": "display_data"
    }
   ],
   "source": [
    "# find edges that belong to more than 2 triangles\n",
    "sussy = Set{Edge}()\n",
    "for edge in edges(bni)\n",
    "    trigs = length(bni._edge_to_triangles[edge])\n",
    "    if trigs > 2\n",
    "        push!(sussy, edge)\n",
    "    end\n",
    "end\n",
    "sussy"
   ]
  },
  {
   "cell_type": "code",
   "execution_count": 5,
   "metadata": {},
   "outputs": [],
   "source": [
    "pts = Set{GeometryBasics.Point3}()\n",
    "for edge in border\n",
    "    push!(pts, GeometryBasics.Point3(bni.coords[edge[1]]))\n",
    "    push!(pts, GeometryBasics.Point3(bni.coords[edge[2]]))\n",
    "end"
   ]
  },
  {
   "cell_type": "code",
   "execution_count": 6,
   "metadata": {},
   "outputs": [
    {
     "data": {
      "text/plain": [
       "GLMakie.Screen(...)"
      ]
     },
     "metadata": {},
     "output_type": "display_data"
    }
   ],
   "source": [
    "include(\"visualisation.jl\")\n",
    "visualize(bni, [pts...], \"\")"
   ]
  },
  {
   "cell_type": "code",
   "execution_count": null,
   "metadata": {},
   "outputs": [],
   "source": [
    "# scatterplot of all points in the border\n",
    "scatter([pt[1] for pt in pts], [pt[2] for pt in pts], [pt[3] for pt in pts], markersize=0.1, color=:red)"
   ]
  }
 ],
 "metadata": {
  "kernelspec": {
   "display_name": "Julia 1.11.2",
   "language": "julia",
   "name": "julia-1.11"
  },
  "language_info": {
   "file_extension": ".jl",
   "mimetype": "application/julia",
   "name": "julia",
   "version": "1.11.2"
  }
 },
 "nbformat": 4,
 "nbformat_minor": 2
}
