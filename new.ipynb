{
 "cells": [
  {
   "cell_type": "code",
   "execution_count": 1,
   "metadata": {},
   "outputs": [],
   "source": [
    "using DataStructures\n",
    "using FileIO\n",
    "using Meshes\n",
    "using MeshIO\n",
    "using Makie\n",
    "using GLMakie\n",
    "using GeometryBasics\n",
    "using ProgressBars"
   ]
  },
  {
   "cell_type": "code",
   "execution_count": 2,
   "metadata": {},
   "outputs": [
    {
     "data": {
      "text/plain": [
       "loadsc (generic function with 1 method)"
      ]
     },
     "metadata": {},
     "output_type": "display_data"
    }
   ],
   "source": [
    "include(\"contractions.jl\")\n",
    "include(\"visualisation.jl\")\n",
    "include(\"preprocessing.jl\")"
   ]
  },
  {
   "cell_type": "code",
   "execution_count": 76,
   "metadata": {},
   "outputs": [
    {
     "name": "stderr",
     "output_type": "stream",
     "text": [
      "0.0%┣                                            ┫ 0/69.5k [00:00<00:-1, -0s/it]\n",
      "2.9%┣█                                     ┫ 2.0k/69.5k [00:00<00:02, 39.8kit/s]\n",
      "6.2%┣██▍                                   ┫ 4.3k/69.5k [00:00<00:02, 42.6kit/s]\n",
      "9.7%┣███▊                                  ┫ 6.7k/69.5k [00:00<00:01, 44.4kit/s]\n",
      "13.1%┣████▉                                ┫ 9.1k/69.5k [00:00<00:01, 45.1kit/s]\n",
      "16.4%┣██████                              ┫ 11.4k/69.5k [00:00<00:01, 45.4kit/s]\n",
      "18.8%┣██████▊                             ┫ 13.0k/69.5k [00:00<00:01, 43.1kit/s]\n",
      "21.3%┣███████▋                            ┫ 14.8k/69.5k [00:00<00:01, 41.9kit/s]\n",
      "24.9%┣█████████                           ┫ 17.3k/69.5k [00:00<00:01, 43.0kit/s]\n",
      "28.3%┣██████████▏                         ┫ 19.7k/69.5k [00:00<00:01, 43.4kit/s]\n",
      "32.1%┣███████████▋                        ┫ 22.3k/69.5k [00:01<00:01, 44.3kit/s]\n",
      "35.3%┣████████████▊                       ┫ 24.6k/69.5k [00:01<00:01, 44.3kit/s]\n",
      "39.1%┣██████████████                      ┫ 27.1k/69.5k [00:01<00:01, 44.9kit/s]\n",
      "42.9%┣███████████████▌                    ┫ 29.8k/69.5k [00:01<00:01, 45.6kit/s]\n",
      "46.8%┣████████████████▉                   ┫ 32.5k/69.5k [00:01<00:01, 46.2kit/s]\n",
      "50.2%┣██████████████████                  ┫ 34.9k/69.5k [00:01<00:01, 46.2kit/s]\n",
      "53.4%┣███████████████████▏                ┫ 37.1k/69.5k [00:01<00:01, 46.0kit/s]\n",
      "56.5%┣████████████████████▍               ┫ 39.2k/69.5k [00:01<00:01, 45.8kit/s]\n",
      "59.4%┣█████████████████████▍              ┫ 41.2k/69.5k [00:01<00:01, 33.8kit/s]\n",
      "62.9%┣██████████████████████▋             ┫ 43.7k/69.5k [00:01<00:01, 34.4kit/s]\n",
      "66.4%┣████████████████████████            ┫ 46.1k/69.5k [00:01<00:01, 34.9kit/s]\n",
      "69.9%┣█████████████████████████▏          ┫ 48.6k/69.5k [00:01<00:01, 35.4kit/s]\n",
      "74.0%┣██████████████████████████▋         ┫ 51.4k/69.5k [00:01<00:00, 36.2kit/s]\n",
      "78.2%┣████████████████████████████▏       ┫ 54.3k/69.5k [00:01<00:00, 36.9kit/s]\n",
      "82.8%┣█████████████████████████████▉      ┫ 57.5k/69.5k [00:02<00:00, 37.8kit/s]\n",
      "87.1%┣███████████████████████████████▍    ┫ 60.5k/69.5k [00:02<00:00, 38.5kit/s]\n",
      "91.4%┣█████████████████████████████████   ┫ 63.5k/69.5k [00:02<00:00, 39.1kit/s]\n",
      "95.6%┣██████████████████████████████████▍ ┫ 66.4k/69.5k [00:02<00:00, 39.7kit/s]\n",
      "\u001b[1A"
     ]
    },
    {
     "name": "stdout",
     "output_type": "stream",
     "text": [
      "Get rotated lmao\n"
     ]
    },
    {
     "name": "stderr",
     "output_type": "stream",
     "text": [
      "99.4%┣███████████████████████████████████▊┫ 69.0k/69.5k [00:02<00:00, 40.1kit/s]\n",
      "100.0%┣███████████████████████████████████┫ 69.5k/69.5k [00:02<00:00, 40.1kit/s]\n",
      "100.0%┣███████████████████████████████████┫ 69.5k/69.5k [00:02<00:00, 40.1kit/s]\n"
     ]
    },
    {
     "name": "stdout",
     "output_type": "stream",
     "text": [
      "Finding buttholes\n",
      "Buttholes left: 223\n",
      "Buttholes left: 184\n",
      "Buttholes left: 142\n",
      "Buttholes left: 62\n",
      "Buttholes left: 22\n",
      "Constipating 5 buttholes\n"
     ]
    },
    {
     "name": "stderr",
     "output_type": "stream",
     "text": [
      "0.0%┣                                                ┫ 0/5 [00:00<00:00, -0s/it]\n",
      "100.0%┣████████████████████████████████████████████┫ 5/5 [00:00<00:00, 2.2kit/s]\n",
      "100.0%┣████████████████████████████████████████████┫ 5/5 [00:00<00:00, 2.0kit/s]\n"
     ]
    }
   ],
   "source": [
    "bunidata = loadsc(\"ply/bunny.ply\")\n",
    "\n",
    "# rotate by 90 degrees around the x-axis\n",
    "println(\"Get rotated lmao\")\n",
    "for vertex in bunidata.coords\n",
    "    vertex[2], vertex[3] = vertex[2] * cos(π / 2) - vertex[3] * sin(π / 2), vertex[2] * sin(π / 2) + vertex[3] * cos(π / 2)\n",
    "end\n",
    "\n",
    "buni = initialContractedSimplicialComplex2D(bunidata)\n",
    "butthole = getborder(buni.contracted)\n",
    "# convert Set{Tuple{Int64, Int64}}) to Array{GeometryBasics.Point{3,Float32}})\n",
    "butthole_array = collect(butthole)\n",
    "butthole = [GeometryBasics.Point3(buni.contracted.coords[butthole_array[i][1]]...) for i in 1:length(butthole_array)]\n",
    "fillholes!(buni.contracted)"
   ]
  },
  {
   "cell_type": "code",
   "execution_count": 77,
   "metadata": {},
   "outputs": [
    {
     "name": "stdout",
     "output_type": "stream",
     "text": [
      "Calculating fundamental quadratics\n",
      "Constructing initial priority queue\n"
     ]
    },
    {
     "name": "stderr",
     "output_type": "stream",
     "text": [
      "0.0%┣                                           ┫ 0/104.5k [00:00<00:-2, -0s/it]\n",
      "3.1%┣█▏                                   ┫ 3.3k/104.5k [00:00<00:02, 65.3kit/s]\n",
      "6.4%┣██▍                                  ┫ 6.7k/104.5k [00:00<00:01, 66.2kit/s]\n",
      "9.6%┣███▌                                ┫ 10.0k/104.5k [00:00<00:01, 66.2kit/s]\n",
      "12.6%┣████▍                              ┫ 13.2k/104.5k [00:00<00:01, 65.3kit/s]\n",
      "15.6%┣█████▌                             ┫ 16.3k/104.5k [00:00<00:01, 65.0kit/s]\n",
      "18.7%┣██████▌                            ┫ 19.5k/104.5k [00:00<00:01, 64.6kit/s]\n",
      "21.9%┣███████▋                           ┫ 22.9k/104.5k [00:00<00:01, 64.9kit/s]\n",
      "25.1%┣████████▉                          ┫ 26.2k/104.5k [00:00<00:01, 65.1kit/s]\n",
      "28.2%┣█████████▉                         ┫ 29.5k/104.5k [00:00<00:01, 65.1kit/s]\n",
      "31.2%┣███████████                        ┫ 32.7k/104.5k [00:01<00:01, 64.9kit/s]\n",
      "34.2%┣████████████                       ┫ 35.7k/104.5k [00:01<00:01, 64.5kit/s]\n",
      "37.3%┣█████████████                      ┫ 39.0k/104.5k [00:01<00:01, 64.6kit/s]\n",
      "40.1%┣██████████████                     ┫ 41.9k/104.5k [00:01<00:01, 64.1kit/s]\n",
      "42.8%┣███████████████                    ┫ 44.7k/104.5k [00:01<00:01, 63.4kit/s]\n",
      "46.0%┣████████████████                   ┫ 48.1k/104.5k [00:01<00:01, 63.7kit/s]\n",
      "49.2%┣█████████████████▏                 ┫ 51.4k/104.5k [00:01<00:01, 63.9kit/s]\n",
      "52.2%┣██████████████████▎                ┫ 54.5k/104.5k [00:01<00:01, 63.7kit/s]\n",
      "55.0%┣███████████████████▎               ┫ 57.5k/104.5k [00:01<00:01, 63.4kit/s]\n",
      "57.9%┣████████████████████▎              ┫ 60.5k/104.5k [00:01<00:01, 63.2kit/s]\n",
      "60.8%┣█████████████████████▎             ┫ 63.5k/104.5k [00:01<00:01, 63.1kit/s]\n",
      "63.6%┣██████████████████████▎            ┫ 66.5k/104.5k [00:01<00:01, 62.9kit/s]\n",
      "66.4%┣███████████████████████▎           ┫ 69.4k/104.5k [00:01<00:01, 62.7kit/s]\n",
      "69.1%┣████████████████████████▏          ┫ 72.3k/104.5k [00:01<00:01, 62.4kit/s]\n",
      "71.9%┣█████████████████████████▏         ┫ 75.1k/104.5k [00:01<00:00, 62.2kit/s]\n",
      "72.8%┣█████████████████████████▌         ┫ 76.0k/104.5k [00:02<00:01, 45.9kit/s]\n",
      "76.3%┣██████████████████████████▊        ┫ 79.7k/104.5k [00:02<00:01, 46.8kit/s]\n",
      "80.0%┣████████████████████████████       ┫ 83.6k/104.5k [00:02<00:00, 47.6kit/s]\n",
      "83.6%┣█████████████████████████████▎     ┫ 87.3k/104.5k [00:02<00:00, 48.4kit/s]\n",
      "87.2%┣██████████████████████████████▌    ┫ 91.2k/104.5k [00:02<00:00, 49.1kit/s]\n",
      "90.9%┣███████████████████████████████▉   ┫ 95.0k/104.5k [00:02<00:00, 49.8kit/s]\n",
      "94.6%┣█████████████████████████████████▏ ┫ 98.9k/104.5k [00:02<00:00, 50.5kit/s]\n",
      "98.3%┣█████████████████████████████████▍┫ 102.7k/104.5k [00:02<00:00, 51.2kit/s]\n",
      "100.0%┣█████████████████████████████████┫ 104.5k/104.5k [00:02<00:00, 51.4kit/s]\n",
      "100.0%┣█████████████████████████████████┫ 104.5k/104.5k [00:02<00:00, 51.4kit/s]\n"
     ]
    }
   ],
   "source": [
    "println(\"Calculating fundamental quadratics\")\n",
    "calculateFundamentalQuadratics!(buni)\n",
    "\n",
    "println(\"Constructing initial priority queue\")\n",
    "pq = PriorityQueue()\n",
    "for (edge, triangle) in ProgressBar(buni.contracted._edge_to_triangles)\n",
    "    pq[edge] = error(buni, edge)\n",
    "end"
   ]
  },
  {
   "cell_type": "code",
   "execution_count": null,
   "metadata": {},
   "outputs": [
    {
     "name": "stdout",
     "output_type": "stream",
     "text": [
      "7486\n"
     ]
    }
   ],
   "source": [
    "i = 0\n",
    "while i < 7486 # problematic edge: (2060, 2061)\n",
    "    global myedge\n",
    "    try\n",
    "        global myedge\n",
    "        myedge = dequeue!(pq)\n",
    "        while !issafe(buni.contracted, myedge)\n",
    "            myedge = dequeue!(pq)\n",
    "        end\n",
    "    catch e\n",
    "        break\n",
    "    end\n",
    "\n",
    "    new_vertex = contract!(buni, myedge)\n",
    "    for edge in buni.contracted._vertex_to_edges[new_vertex]\n",
    "        pq[edge] = error(buni, edge)\n",
    "    end\n",
    "    i += 1\n",
    "end\n",
    "println(i)"
   ]
  },
  {
   "cell_type": "code",
   "execution_count": 79,
   "metadata": {},
   "outputs": [
    {
     "data": {
      "text/plain": [
       "7486"
      ]
     },
     "metadata": {},
     "output_type": "display_data"
    }
   ],
   "source": [
    "i"
   ]
  },
  {
   "cell_type": "code",
   "execution_count": 80,
   "metadata": {},
   "outputs": [
    {
     "data": {
      "text/plain": [
       "3-element Vector{Float32}:\n",
       " -0.07101557\n",
       "  0.0450611\n",
       "  0.156148"
      ]
     },
     "metadata": {},
     "output_type": "display_data"
    }
   ],
   "source": [
    "buni.contracted.coords[new_vertex]"
   ]
  },
  {
   "cell_type": "code",
   "execution_count": 81,
   "metadata": {},
   "outputs": [
    {
     "data": {
      "text/plain": [
       "GLMakie.Screen(...)"
      ]
     },
     "metadata": {},
     "output_type": "display_data"
    }
   ],
   "source": [
    "include(\"visualisation.jl\")\n",
    "visualize(buni.contracted)"
   ]
  },
  {
   "cell_type": "code",
   "execution_count": 83,
   "metadata": {},
   "outputs": [
    {
     "data": {
      "text/plain": [
       "(2060, 2061)"
      ]
     },
     "metadata": {},
     "output_type": "display_data"
    }
   ],
   "source": [
    "myedge"
   ]
  }
 ],
 "metadata": {
  "kernelspec": {
   "display_name": "Julia 1.11.2",
   "language": "julia",
   "name": "julia-1.11"
  },
  "language_info": {
   "file_extension": ".jl",
   "mimetype": "application/julia",
   "name": "julia",
   "version": "1.11.2"
  }
 },
 "nbformat": 4,
 "nbformat_minor": 2
}
