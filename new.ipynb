{
 "cells": [
  {
   "cell_type": "code",
   "execution_count": 7,
   "metadata": {},
   "outputs": [],
   "source": [
    "using DataStructures\n",
    "using FileIO\n",
    "using Meshes\n",
    "using MeshIO\n",
    "using Makie\n",
    "using GLMakie\n",
    "using GeometryBasics\n",
    "using ProgressBars\n",
    "using JLD2\n",
    "using Serialization"
   ]
  },
  {
   "cell_type": "code",
   "execution_count": 8,
   "metadata": {},
   "outputs": [
    {
     "data": {
      "text/plain": [
       "loadsc (generic function with 1 method)"
      ]
     },
     "metadata": {},
     "output_type": "display_data"
    }
   ],
   "source": [
    "include(\"contractions.jl\")\n",
    "include(\"visualisation.jl\")\n",
    "include(\"preprocessing.jl\")"
   ]
  },
  {
   "cell_type": "code",
   "execution_count": null,
   "metadata": {},
   "outputs": [
    {
     "name": "stderr",
     "output_type": "stream",
     "text": [
      "0.0%┣                                             ┫ 0/1.2k [00:00<00:00, -0s/it]\n",
      "\u001b[1A"
     ]
    },
    {
     "name": "stdout",
     "output_type": "stream",
     "text": [
      "Get rotated lmao\n",
      "Finding buttholes\n"
     ]
    },
    {
     "name": "stderr",
     "output_type": "stream",
     "text": [
      "0.1%┣                                         ┫ 1/1.2k [00:00<Inf:Inf, InfGs/it]\n",
      "100.0%┣██████████████████████████████████████┫ 1.2k/1.2k [00:00<00:00, 7.2kit/s]\n",
      "100.0%┣██████████████████████████████████████┫ 1.2k/1.2k [00:00<00:00, 7.2kit/s]\n"
     ]
    },
    {
     "name": "stdout",
     "output_type": "stream",
     "text": [
      "Constipating 0 buttholes\n"
     ]
    },
    {
     "name": "stderr",
     "output_type": "stream",
     "text": [
      "┣   ╱   ╱   ╱   ╱   ╱   ╱   ╱   ╱   ╱   ╱   ╱   ╱   ╱   ╱   ┫ 0it 00:00 [-0s/it]\n"
     ]
    }
   ],
   "source": [
    "bunidata = loadsc(\"ply/torus.ply\")\n",
    "\n",
    "# rotate by 90 degrees around the x-axis\n",
    "println(\"Get rotated lmao\")\n",
    "for vertex in bunidata.coords\n",
    "    vertex[2], vertex[3] = vertex[2] * cos(π / 2) - vertex[3] * sin(π / 2), vertex[2] * sin(π / 2) + vertex[3] * cos(π / 2)\n",
    "end\n",
    "\n",
    "buni = initialContractedSimplicialComplex2D(bunidata)\n",
    "butthole = getborder(buni.contracted)\n",
    "# convert Set{Tuple{Int64, Int64}}) to Array{GeometryBasics.Point{3,Float32}})\n",
    "butthole_array = collect(butthole)\n",
    "butthole = [GeometryBasics.Point3(buni.contracted.coords[butthole_array[i][1]]...) for i in 1:length(butthole_array)]\n",
    "fillholes!(buni.contracted)"
   ]
  },
  {
   "cell_type": "code",
   "execution_count": 19,
   "metadata": {},
   "outputs": [
    {
     "data": {
      "text/plain": [
       "GLMakie.Screen(...)"
      ]
     },
     "metadata": {},
     "output_type": "display_data"
    }
   ],
   "source": [
    "include(\"visualisation.jl\")\n",
    "visualize(buni)"
   ]
  },
  {
   "cell_type": "code",
   "execution_count": 20,
   "metadata": {},
   "outputs": [
    {
     "name": "stdout",
     "output_type": "stream",
     "text": [
      "Julia running. Loading packages\n",
      "DataStructures\n",
      "FileIO\n",
      "Meshes\n",
      "MeshIO\n",
      "GeometryBasics\n",
      "ProgressBars\n",
      "Serialization\n",
      "JSON3\n",
      "Serialization\n",
      "JLD2\n",
      "Makie\n",
      "GLMakie\n",
      "Including files\n",
      "Loading bunny torus\n"
     ]
    },
    {
     "name": "stderr",
     "output_type": "stream",
     "text": [
      "0.0%"
     ]
    },
    {
     "name": "stdout",
     "output_type": "stream",
     "text": [
      "Get rotated lmao\n",
      "Constructing initial contracted simplicial complex\n",
      "Filling buttholes\n",
      "Finding buttholes\n",
      "Constipating 0 buttholes\n",
      "Calculating fundamental quadratics\n",
      "Constructing initial priority queue\n"
     ]
    },
    {
     "name": "stderr",
     "output_type": "stream",
     "text": [
      "┣                                             ┫ 0/1.2k [00:00<00:00, -0s/it]\n",
      "0.1%┣                                         ┫ 1/1.2k [00:00<Inf:Inf, InfGs/it]\n",
      "100.0%┣█████████████████████████████████████┫ 1.2k/1.2k [00:00<00:00, 13.6kit/s]\n",
      "100.0%┣█████████████████████████████████████┫ 1.2k/1.2k [00:00<00:00, 13.5kit/s]\n",
      "┣   ╱   ╱   ╱   ╱   ╱   ╱   ╱   ╱   ╱   ╱   ╱   ╱   ╱   ╱   ┫ 0it 00:00 [-0s/it]\n",
      "0.0%┣                                             ┫ 0/1.7k [00:00<00:00, -0s/it]\n",
      "0.1%┣                                         ┫ 1/1.7k [00:01<Inf:Inf, InfGs/it]\n",
      "16.1%┣██████▋                                  ┫ 279/1.7k [00:01<00:03, 453it/s]\n",
      "100.0%┣██████████████████████████████████████┫ 1.7k/1.7k [00:01<00:00, 2.7kit/s]\n",
      "100.0%┣██████████████████████████████████████┫ 1.7k/1.7k [00:01<00:00, 2.7kit/s]\n",
      "\r"
     ]
    },
    {
     "name": "stdout",
     "output_type": "stream",
     "text": [
      "\u0007"
     ]
    },
    {
     "name": "stderr",
     "output_type": "stream",
     "text": [
      "0.2%┣                                          ┫ 1/576 [00:00<Inf:Inf, InfGs/it]\n"
     ]
    },
    {
     "name": "stdout",
     "output_type": "stream",
     "text": [
      "\u0007"
     ]
    },
    {
     "name": "stderr",
     "output_type": "stream",
     "text": [
      "Frame count: 1, thislog: 6.354370040797351 0.3%┣    ┫ 2/576 [00:01<04:52, 2it/s]\n"
     ]
    },
    {
     "name": "stdout",
     "output_type": "stream",
     "text": [
      "\u0007"
     ]
    },
    {
     "name": "stderr",
     "output_type": "stream",
     "text": [
      "Frame count: 2, thislog: 6.343880434126331 1.4%┣   ┫ 8/576 [00:01<00:49, 12it/s]\n"
     ]
    },
    {
     "name": "stdout",
     "output_type": "stream",
     "text": [
      "\u0007"
     ]
    },
    {
     "name": "stderr",
     "output_type": "stream",
     "text": [
      "Frame count: 3, thislog: 6.333279628139691 2.4%┣  ┫ 14/576 [00:01<00:30, 19it/s]\n"
     ]
    },
    {
     "name": "stdout",
     "output_type": "stream",
     "text": [
      "\u0007\u0007"
     ]
    },
    {
     "name": "stderr",
     "output_type": "stream",
     "text": [
      "Frame count: 4, thislog: 6.322565239927284 3.5%┣  ┫ 20/576 [00:01<00:24, 23it/s]\n",
      "Frame count: 5, thislog: 6.311734809152915 4.5%┣  ┫ 26/576 [00:01<00:20, 27it/s]\n"
     ]
    },
    {
     "name": "stdout",
     "output_type": "stream",
     "text": [
      "\u0007"
     ]
    },
    {
     "name": "stderr",
     "output_type": "stream",
     "text": [
      "Frame count: 6, thislog: 6.300785794663244 5.6%┣▏ ┫ 32/576 [00:01<00:18, 31it/s]\n"
     ]
    },
    {
     "name": "stdout",
     "output_type": "stream",
     "text": [
      "\u0007"
     ]
    },
    {
     "name": "stderr",
     "output_type": "stream",
     "text": [
      "Frame count: 7, thislog: 6.289715570908998 6.6%┣▏ ┫ 38/576 [00:01<00:16, 34it/s]\n"
     ]
    },
    {
     "name": "stdout",
     "output_type": "stream",
     "text": [
      "\u0007"
     ]
    },
    {
     "name": "stderr",
     "output_type": "stream",
     "text": [
      "Frame count: 8, thislog: 6.278521424165844 7.6%┣▏ ┫ 44/576 [00:01<00:15, 35it/s]\n"
     ]
    },
    {
     "name": "stdout",
     "output_type": "stream",
     "text": [
      "\u0007\u0007"
     ]
    },
    {
     "name": "stderr",
     "output_type": "stream",
     "text": [
      "Frame count: 9, thislog: 6.267200548541362 8.7%┣▏ ┫ 50/576 [00:01<00:14, 37it/s]\n",
      "Frame count: 10, thislog: 6.255750041753367 9.7%┣ ┫ 56/576 [00:01<00:13, 39it/s]\n"
     ]
    },
    {
     "name": "stdout",
     "output_type": "stream",
     "text": [
      "\u0007\u0007"
     ]
    },
    {
     "name": "stderr",
     "output_type": "stream",
     "text": [
      "Frame count: 11, thislog: 6.244166900663736 10.8%┣┫ 62/576 [00:02<00:13, 40it/s]\n",
      "Frame count: 12, thislog: 6.2324480165505225 11.8%┣┫ 68/576 [00:02<00:12, 42it/s]\n"
     ]
    },
    {
     "name": "stdout",
     "output_type": "stream",
     "text": [
      "\u0007"
     ]
    },
    {
     "name": "stderr",
     "output_type": "stream",
     "text": [
      "Frame count: 13, thislog: 6.220590170099739 12.8%┣┫ 74/576 [00:02<00:12, 44it/s]\n"
     ]
    },
    {
     "name": "stdout",
     "output_type": "stream",
     "text": [
      "\u0007"
     ]
    },
    {
     "name": "stderr",
     "output_type": "stream",
     "text": [
      "Frame count: 14, thislog: 6.208590026096629 13.9%┣┫ 80/576 [00:02<00:11, 45it/s]\n"
     ]
    },
    {
     "name": "stdout",
     "output_type": "stream",
     "text": [
      "\u0007\u0007"
     ]
    },
    {
     "name": "stderr",
     "output_type": "stream",
     "text": [
      "Frame count: 15, thislog: 6.198478716492308 14.8%┣┫ 85/576 [00:02<00:11, 44it/s]\n",
      "Frame count: 16, thislog: 6.18826412308259 15.6%┣▏┫ 90/576 [00:02<00:11, 45it/s]\n"
     ]
    },
    {
     "name": "stdout",
     "output_type": "stream",
     "text": [
      "\u0007\u0007"
     ]
    },
    {
     "name": "stderr",
     "output_type": "stream",
     "text": [
      "Frame count: 17, thislog: 6.1779441140506 16.5%┣▎ ┫ 95/576 [00:02<00:11, 45it/s]\n",
      "Frame count: 18, thislog: 6.1675164908883415 17.4%┣┫ 100/576 [00:02<00:10, 46it/s]\n"
     ]
    },
    {
     "name": "stdout",
     "output_type": "stream",
     "text": [
      "\u0007\u0007"
     ]
    },
    {
     "name": "stderr",
     "output_type": "stream",
     "text": [
      "Frame count: 19, thislog: 6.156978985585555 18.2%┣┫ 105/576 [00:02<00:10, 47it/s]\n",
      "Frame count: 20, thislog: 6.1463292576688975 19.1%┣┫ 110/576 [00:02<00:10, 47it/s]\n"
     ]
    },
    {
     "name": "stdout",
     "output_type": "stream",
     "text": [
      "\u0007"
     ]
    },
    {
     "name": "stderr",
     "output_type": "stream",
     "text": [
      "Frame count: 21, thislog: 6.135564891081739 20.0%┣┫ 115/576 [00:02<00:10, 48it/s]\n"
     ]
    },
    {
     "name": "stdout",
     "output_type": "stream",
     "text": [
      "\u0007"
     ]
    },
    {
     "name": "stderr",
     "output_type": "stream",
     "text": [
      "Frame count: 22, thislog: 6.124683390894205 20.8%┣┫ 120/576 [00:03<00:10, 47it/s]\n"
     ]
    },
    {
     "name": "stdout",
     "output_type": "stream",
     "text": [
      "\u0007"
     ]
    },
    {
     "name": "stderr",
     "output_type": "stream",
     "text": [
      "Frame count: 23, thislog: 6.113682179832232 21.7%┣┫ 125/576 [00:03<00:09, 48it/s]\n"
     ]
    },
    {
     "name": "stdout",
     "output_type": "stream",
     "text": [
      "\u0007"
     ]
    },
    {
     "name": "stderr",
     "output_type": "stream",
     "text": [
      "Frame count: 24, thislog: 6.102558594613569 22.6%┣┫ 130/576 [00:03<00:09, 47it/s]\n"
     ]
    },
    {
     "name": "stdout",
     "output_type": "stream",
     "text": [
      "\u0007\u0007"
     ]
    },
    {
     "name": "stderr",
     "output_type": "stream",
     "text": [
      "Frame count: 25, thislog: 6.091309882077698 23.4%┣┫ 135/576 [00:03<00:09, 47it/s]\n",
      "Frame count: 26, thislog: 6.07993319509559 24.3%┣┫ 140/576 [00:03<00:09, 47it/s]\n"
     ]
    },
    {
     "name": "stdout",
     "output_type": "stream",
     "text": [
      "\u0007"
     ]
    },
    {
     "name": "stderr",
     "output_type": "stream",
     "text": [
      "Frame count: 27, thislog: 6.068425588244111 25.2%┣┫ 145/576 [00:03<00:09, 48it/s]\n"
     ]
    },
    {
     "name": "stdout",
     "output_type": "stream",
     "text": [
      "\u0007\u0007"
     ]
    },
    {
     "name": "stderr",
     "output_type": "stream",
     "text": [
      "Frame count: 28, thislog: 6.056784013228625 26.0%┣┫ 150/576 [00:03<00:09, 48it/s]\n",
      "Frame count: 29, thislog: 6.045005314036012 26.9%┣┫ 155/576 [00:03<00:09, 48it/s]\n"
     ]
    },
    {
     "name": "stdout",
     "output_type": "stream",
     "text": [
      "\u0007\u0007"
     ]
    },
    {
     "name": "stderr",
     "output_type": "stream",
     "text": [
      "Frame count: 30, thislog: 6.0330862217988015 27.8%┣┫ 160/576 [00:03<00:09, 48it/s]\n",
      "Frame count: 31, thislog: 6.021023349349527 28.6%┣┫ 165/576 [00:03<00:08, 48it/s]\n"
     ]
    },
    {
     "name": "stdout",
     "output_type": "stream",
     "text": [
      "\u0007"
     ]
    },
    {
     "name": "stderr",
     "output_type": "stream",
     "text": [
      "Frame count: 32, thislog: 6.008813185442595 29.5%┣┫ 170/576 [00:03<00:08, 49it/s]\n"
     ]
    },
    {
     "name": "stdout",
     "output_type": "stream",
     "text": [
      "\u0007"
     ]
    },
    {
     "name": "stderr",
     "output_type": "stream",
     "text": [
      "Frame count: 33, thislog: 5.996452088619021 30.4%┣┫ 175/576 [00:04<00:08, 48it/s]\n"
     ]
    },
    {
     "name": "stdout",
     "output_type": "stream",
     "text": [
      "\u0007"
     ]
    },
    {
     "name": "stderr",
     "output_type": "stream",
     "text": [
      "Frame count: 34, thislog: 5.986452005284438 31.1%┣┫ 179/576 [00:04<00:08, 48it/s]\n"
     ]
    },
    {
     "name": "stdout",
     "output_type": "stream",
     "text": [
      "\u0007"
     ]
    },
    {
     "name": "stderr",
     "output_type": "stream",
     "text": [
      "Frame count: 35, thislog: 5.976350909297934 31.8%┣┫ 183/576 [00:04<00:08, 48it/s]\n"
     ]
    },
    {
     "name": "stdout",
     "output_type": "stream",
     "text": [
      "\u0007"
     ]
    },
    {
     "name": "stderr",
     "output_type": "stream",
     "text": [
      "Frame count: 36, thislog: 5.966146739123692 32.5%┣┫ 187/576 [00:04<00:08, 47it/s]\n"
     ]
    },
    {
     "name": "stdout",
     "output_type": "stream",
     "text": [
      "\u0007"
     ]
    },
    {
     "name": "stderr",
     "output_type": "stream",
     "text": [
      "Frame count: 37, thislog: 5.955837369464831 33.2%┣┫ 191/576 [00:04<00:08, 47it/s]\n"
     ]
    },
    {
     "name": "stdout",
     "output_type": "stream",
     "text": [
      "\u0007"
     ]
    },
    {
     "name": "stderr",
     "output_type": "stream",
     "text": [
      "Frame count: 38, thislog: 5.945420608606575 33.9%┣┫ 195/576 [00:04<00:08, 46it/s]\n"
     ]
    },
    {
     "name": "stdout",
     "output_type": "stream",
     "text": [
      "\u0007\u0007"
     ]
    },
    {
     "name": "stderr",
     "output_type": "stream",
     "text": [
      "Frame count: 39, thislog: 5.934894195619588 34.5%┣┫ 199/576 [00:04<00:08, 46it/s]\n",
      "Frame count: 40, thislog: 5.924255797414532 35.2%┣┫ 203/576 [00:04<00:08, 46it/s]\n"
     ]
    },
    {
     "name": "stdout",
     "output_type": "stream",
     "text": [
      "\u0007"
     ]
    },
    {
     "name": "stderr",
     "output_type": "stream",
     "text": [
      "Frame count: 41, thislog: 5.91350300563827 35.9%┣┫ 207/576 [00:04<00:08, 46it/s]\n",
      "\u001b[1A\r"
     ]
    },
    {
     "name": "stdout",
     "output_type": "stream",
     "text": [
      "\u0007\u0007"
     ]
    },
    {
     "name": "stderr",
     "output_type": "stream",
     "text": [
      "Frame count: 42, thislog: 5.902633333401366 36.6%┣┫ 211/576 [00:05<00:08, 46it/s]\n",
      "Frame count: 43, thislog: 5.8916442118257715 37.3%┣┫ 215/576 [00:05<00:08, 46it/s]\n"
     ]
    },
    {
     "name": "stdout",
     "output_type": "stream",
     "text": [
      "\u0007"
     ]
    },
    {
     "name": "stderr",
     "output_type": "stream",
     "text": [
      "Frame count: 44, thislog: 5.8805329864007 38.0%┣▍┫ 219/576 [00:05<00:08, 46it/s]\n"
     ]
    },
    {
     "name": "stdout",
     "output_type": "stream",
     "text": [
      "\u0007"
     ]
    },
    {
     "name": "stderr",
     "output_type": "stream",
     "text": [
      "Frame count: 45, thislog: 5.869296913133774 38.7%┣┫ 223/576 [00:05<00:08, 46it/s]\n"
     ]
    },
    {
     "name": "stdout",
     "output_type": "stream",
     "text": [
      "\u0007\u0007"
     ]
    },
    {
     "name": "stderr",
     "output_type": "stream",
     "text": [
      "Frame count: 46, thislog: 5.857933154483459 39.4%┣┫ 227/576 [00:05<00:08, 46it/s]\n",
      "Frame count: 47, thislog: 5.846438775057725 40.1%┣┫ 231/576 [00:05<00:08, 46it/s]\n"
     ]
    },
    {
     "name": "stdout",
     "output_type": "stream",
     "text": [
      "\u0007"
     ]
    },
    {
     "name": "stderr",
     "output_type": "stream",
     "text": [
      "Frame count: 48, thislog: 5.834810737062605 40.8%┣┫ 235/576 [00:05<00:07, 46it/s]\n"
     ]
    },
    {
     "name": "stdout",
     "output_type": "stream",
     "text": [
      "\u0007\u0007"
     ]
    },
    {
     "name": "stderr",
     "output_type": "stream",
     "text": [
      "Frame count: 49, thislog: 5.823045895483019 41.5%┣┫ 239/576 [00:05<00:07, 45it/s]\n",
      "Frame count: 50, thislog: 5.811140992976701 42.2%┣┫ 243/576 [00:05<00:07, 46it/s]\n"
     ]
    },
    {
     "name": "stdout",
     "output_type": "stream",
     "text": [
      "\u0007\u0007"
     ]
    },
    {
     "name": "stderr",
     "output_type": "stream",
     "text": [
      "Frame count: 51, thislog: 5.799092654460526 42.9%┣┫ 247/576 [00:05<00:07, 46it/s]\n",
      "Frame count: 52, thislog: 5.786897381366708 43.6%┣┫ 251/576 [00:05<00:07, 46it/s]\n"
     ]
    },
    {
     "name": "stdout",
     "output_type": "stream",
     "text": [
      "\u0007"
     ]
    },
    {
     "name": "stderr",
     "output_type": "stream",
     "text": [
      "Frame count: 53, thislog: 5.7745515455444085 44.3%┣┫ 255/576 [00:06<00:07, 46it/s]\n"
     ]
    },
    {
     "name": "stdout",
     "output_type": "stream",
     "text": [
      "\u0007"
     ]
    },
    {
     "name": "stderr",
     "output_type": "stream",
     "text": [
      "Frame count: 54, thislog: 5.762051382780177 45.0%┣┫ 259/576 [00:06<00:07, 46it/s]\n"
     ]
    },
    {
     "name": "stdout",
     "output_type": "stream",
     "text": [
      "\u0007"
     ]
    },
    {
     "name": "stderr",
     "output_type": "stream",
     "text": [
      "Frame count: 55, thislog: 5.749392985908253 45.7%┣┫ 263/576 [00:06<00:07, 45it/s]\n"
     ]
    },
    {
     "name": "stdout",
     "output_type": "stream",
     "text": [
      "\u0007"
     ]
    },
    {
     "name": "stderr",
     "output_type": "stream",
     "text": [
      "Frame count: 56, thislog: 5.736572297479192 46.4%┣┫ 267/576 [00:06<00:07, 45it/s]\n"
     ]
    },
    {
     "name": "stdout",
     "output_type": "stream",
     "text": [
      "\u0007"
     ]
    },
    {
     "name": "stderr",
     "output_type": "stream",
     "text": [
      "Frame count: 57, thislog: 5.723585101952381 47.0%┣┫ 271/576 [00:06<00:07, 43it/s]\n"
     ]
    },
    {
     "name": "stdout",
     "output_type": "stream",
     "text": [
      "\u0007"
     ]
    },
    {
     "name": "stderr",
     "output_type": "stream",
     "text": [
      "Frame count: 58, thislog: 5.71042701737487 47.7%┣┫ 275/576 [00:06<00:07, 43it/s]\n"
     ]
    },
    {
     "name": "stdout",
     "output_type": "stream",
     "text": [
      "\u0007"
     ]
    },
    {
     "name": "stderr",
     "output_type": "stream",
     "text": [
      "Frame count: 59, thislog: 5.697093486505405 48.4%┣┫ 279/576 [00:07<00:07, 43it/s]\n"
     ]
    },
    {
     "name": "stdout",
     "output_type": "stream",
     "text": [
      "\u0007\u0007"
     ]
    },
    {
     "name": "stderr",
     "output_type": "stream",
     "text": [
      "Frame count: 60, thislog: 5.68697535633982 49.0%┣┫ 282/576 [00:07<00:07, 42it/s]\n",
      "Frame count: 61, thislog: 5.676753802268282 49.5%┣┫ 285/576 [00:07<00:07, 42it/s]\n"
     ]
    },
    {
     "name": "stdout",
     "output_type": "stream",
     "text": [
      "\u0007"
     ]
    },
    {
     "name": "stderr",
     "output_type": "stream",
     "text": [
      "Frame count: 62, thislog: 5.666426688112432 50.0%┣┫ 288/576 [00:07<00:07, 42it/s]\n"
     ]
    },
    {
     "name": "stdout",
     "output_type": "stream",
     "text": [
      "\u0007"
     ]
    },
    {
     "name": "stderr",
     "output_type": "stream",
     "text": [
      "Frame count: 63, thislog: 5.655991810819852 50.5%┣┫ 291/576 [00:07<00:07, 42it/s]\n"
     ]
    },
    {
     "name": "stdout",
     "output_type": "stream",
     "text": [
      "\u0007"
     ]
    },
    {
     "name": "stderr",
     "output_type": "stream",
     "text": [
      "Frame count: 64, thislog: 5.645446897643238 51.0%┣┫ 294/576 [00:07<00:07, 41it/s]\n"
     ]
    },
    {
     "name": "stdout",
     "output_type": "stream",
     "text": [
      "\u0007"
     ]
    },
    {
     "name": "stderr",
     "output_type": "stream",
     "text": [
      "Frame count: 65, thislog: 5.634789603169249 51.6%┣┫ 297/576 [00:07<00:07, 41it/s]\n"
     ]
    },
    {
     "name": "stdout",
     "output_type": "stream",
     "text": [
      "\u0007"
     ]
    },
    {
     "name": "stderr",
     "output_type": "stream",
     "text": [
      "Frame count: 66, thislog: 5.6240175061873385 52.1%┣┫ 300/576 [00:07<00:07, 41it/s]\n"
     ]
    },
    {
     "name": "stdout",
     "output_type": "stream",
     "text": [
      "\u0007"
     ]
    },
    {
     "name": "stderr",
     "output_type": "stream",
     "text": [
      "Frame count: 67, thislog: 5.6131281063880705 52.6%┣┫ 303/576 [00:07<00:07, 41it/s]\n"
     ]
    },
    {
     "name": "stdout",
     "output_type": "stream",
     "text": [
      "\u0007"
     ]
    },
    {
     "name": "stderr",
     "output_type": "stream",
     "text": [
      "Frame count: 68, thislog: 5.602118820879701 53.1%┣┫ 306/576 [00:08<00:07, 40it/s]\n"
     ]
    },
    {
     "name": "stdout",
     "output_type": "stream",
     "text": [
      "\u0007"
     ]
    },
    {
     "name": "stderr",
     "output_type": "stream",
     "text": [
      "Frame count: 69, thislog: 5.5909869805108565 53.6%┣┫ 309/576 [00:08<00:07, 40it/s]\n"
     ]
    },
    {
     "name": "stdout",
     "output_type": "stream",
     "text": [
      "\u0007"
     ]
    },
    {
     "name": "stderr",
     "output_type": "stream",
     "text": [
      "Frame count: 70, thislog: 5.579729825986222 54.2%┣┫ 312/576 [00:08<00:07, 40it/s]\n"
     ]
    },
    {
     "name": "stdout",
     "output_type": "stream",
     "text": [
      "\u0007"
     ]
    },
    {
     "name": "stderr",
     "output_type": "stream",
     "text": [
      "Frame count: 71, thislog: 5.568344503761097 54.7%┣┫ 315/576 [00:08<00:07, 39it/s]\n"
     ]
    },
    {
     "name": "stdout",
     "output_type": "stream",
     "text": [
      "\u0007"
     ]
    },
    {
     "name": "stderr",
     "output_type": "stream",
     "text": [
      "Frame count: 72, thislog: 5.556828061699537 55.2%┣┫ 318/576 [00:08<00:07, 39it/s]\n"
     ]
    },
    {
     "name": "stdout",
     "output_type": "stream",
     "text": [
      "\u0007"
     ]
    },
    {
     "name": "stderr",
     "output_type": "stream",
     "text": [
      "Frame count: 73, thislog: 5.545177444479562 55.7%┣┫ 321/576 [00:08<00:07, 39it/s]\n"
     ]
    },
    {
     "name": "stdout",
     "output_type": "stream",
     "text": [
      "\u0007"
     ]
    },
    {
     "name": "stderr",
     "output_type": "stream",
     "text": [
      "Frame count: 74, thislog: 5.53338948872752 56.2%┣┫ 324/576 [00:08<00:06, 39it/s]\n"
     ]
    },
    {
     "name": "stdout",
     "output_type": "stream",
     "text": [
      "\u0007"
     ]
    },
    {
     "name": "stderr",
     "output_type": "stream",
     "text": [
      "Frame count: 75, thislog: 5.521460917862246 56.8%┣┫ 327/576 [00:08<00:06, 39it/s]\n"
     ]
    },
    {
     "name": "stdout",
     "output_type": "stream",
     "text": [
      "\u0007"
     ]
    },
    {
     "name": "stderr",
     "output_type": "stream",
     "text": [
      "Frame count: 76, thislog: 5.5093883366279774 57.3%┣┫ 330/576 [00:09<00:06, 39it/s]\n"
     ]
    },
    {
     "name": "stdout",
     "output_type": "stream",
     "text": [
      "\u0007"
     ]
    },
    {
     "name": "stderr",
     "output_type": "stream",
     "text": [
      "Frame count: 77, thislog: 5.497168225293202 57.8%┣┫ 333/576 [00:09<00:06, 38it/s]\n"
     ]
    },
    {
     "name": "stdout",
     "output_type": "stream",
     "text": [
      "\u0007"
     ]
    },
    {
     "name": "stderr",
     "output_type": "stream",
     "text": [
      "Frame count: 78, thislog: 5.484796933490655 58.3%┣┫ 336/576 [00:09<00:06, 38it/s]\n"
     ]
    },
    {
     "name": "stdout",
     "output_type": "stream",
     "text": [
      "\u0007"
     ]
    },
    {
     "name": "stderr",
     "output_type": "stream",
     "text": [
      "Frame count: 79, thislog: 5.472270673671475 58.9%┣┫ 339/576 [00:09<00:06, 38it/s]\n"
     ]
    },
    {
     "name": "stdout",
     "output_type": "stream",
     "text": [
      "\u0007"
     ]
    },
    {
     "name": "stderr",
     "output_type": "stream",
     "text": [
      "Frame count: 80, thislog: 5.459585514144159 59.4%┣┫ 342/576 [00:09<00:06, 38it/s]\n"
     ]
    },
    {
     "name": "stdout",
     "output_type": "stream",
     "text": [
      "\u0007"
     ]
    },
    {
     "name": "stderr",
     "output_type": "stream",
     "text": [
      "Frame count: 81, thislog: 5.44673737166631 59.9%┣┫ 345/576 [00:09<00:06, 38it/s]\n"
     ]
    },
    {
     "name": "stdout",
     "output_type": "stream",
     "text": [
      "\u0007"
     ]
    },
    {
     "name": "stderr",
     "output_type": "stream",
     "text": [
      "Frame count: 82, thislog: 5.43372200355424 60.4%┣┫ 348/576 [00:09<00:06, 38it/s]\n"
     ]
    },
    {
     "name": "stdout",
     "output_type": "stream",
     "text": [
      "\u0007"
     ]
    },
    {
     "name": "stderr",
     "output_type": "stream",
     "text": [
      "Frame count: 83, thislog: 5.420534999272286 60.9%┣┫ 351/576 [00:09<00:06, 37it/s]\n"
     ]
    },
    {
     "name": "stdout",
     "output_type": "stream",
     "text": [
      "\u0007"
     ]
    },
    {
     "name": "stderr",
     "output_type": "stream",
     "text": [
      "Frame count: 84, thislog: 5.407171771460119 61.5%┣┫ 354/576 [00:09<00:06, 37it/s]\n"
     ]
    },
    {
     "name": "stdout",
     "output_type": "stream",
     "text": [
      "\u0007"
     ]
    },
    {
     "name": "stderr",
     "output_type": "stream",
     "text": [
      "Frame count: 85, thislog: 5.393627546352362 62.0%┣┫ 357/576 [00:10<00:06, 37it/s]\n"
     ]
    },
    {
     "name": "stdout",
     "output_type": "stream",
     "text": [
      "\u0007"
     ]
    },
    {
     "name": "stderr",
     "output_type": "stream",
     "text": [
      "Frame count: 86, thislog: 5.37989735354046 62.5%┣┫ 360/576 [00:10<00:06, 37it/s]\n"
     ]
    },
    {
     "name": "stdout",
     "output_type": "stream",
     "text": [
      "\u0007"
     ]
    },
    {
     "name": "stderr",
     "output_type": "stream",
     "text": [
      "Frame count: 87, thislog: 5.365976015021851 63.0%┣┫ 363/576 [00:10<00:06, 37it/s]\n"
     ]
    },
    {
     "name": "stdout",
     "output_type": "stream",
     "text": [
      "\u0007"
     ]
    },
    {
     "name": "stderr",
     "output_type": "stream",
     "text": [
      "Frame count: 88, thislog: 5.351858133476067 63.5%┣┫ 366/576 [00:10<00:06, 37it/s]\n"
     ]
    },
    {
     "name": "stdout",
     "output_type": "stream",
     "text": [
      "\u0007"
     ]
    },
    {
     "name": "stderr",
     "output_type": "stream",
     "text": [
      "Frame count: 89, thislog: 5.337538079701318 64.1%┣┫ 369/576 [00:10<00:06, 37it/s]\n"
     ]
    },
    {
     "name": "stdout",
     "output_type": "stream",
     "text": [
      "\u0007"
     ]
    },
    {
     "name": "stderr",
     "output_type": "stream",
     "text": [
      "Frame count: 90, thislog: 5.3230099791384085 64.6%┣┫ 372/576 [00:10<00:06, 37it/s]\n"
     ]
    },
    {
     "name": "stdout",
     "output_type": "stream",
     "text": [
      "\u0007"
     ]
    },
    {
     "name": "stderr",
     "output_type": "stream",
     "text": [
      "Frame count: 91, thislog: 5.308267697401205 65.1%┣┫ 375/576 [00:10<00:05, 37it/s]\n"
     ]
    },
    {
     "name": "stdout",
     "output_type": "stream",
     "text": [
      "\u0007"
     ]
    },
    {
     "name": "stderr",
     "output_type": "stream",
     "text": [
      "Frame count: 92, thislog: 5.293304824724492 65.6%┣┫ 378/576 [00:10<00:05, 36it/s]\n"
     ]
    },
    {
     "name": "stdout",
     "output_type": "stream",
     "text": [
      "\u0007"
     ]
    },
    {
     "name": "stderr",
     "output_type": "stream",
     "text": [
      "Frame count: 93, thislog: 5.2832037287379885 66.0%┣┫ 380/576 [00:11<00:05, 36it/s]\n"
     ]
    },
    {
     "name": "stdout",
     "output_type": "stream",
     "text": [
      "\u0007"
     ]
    },
    {
     "name": "stderr",
     "output_type": "stream",
     "text": [
      "Frame count: 94, thislog: 5.272999558563747 66.3%┣┫ 382/576 [00:11<00:05, 36it/s]\n"
     ]
    },
    {
     "name": "stdout",
     "output_type": "stream",
     "text": [
      "\u0007"
     ]
    },
    {
     "name": "stderr",
     "output_type": "stream",
     "text": [
      "Frame count: 95, thislog: 5.262690188904886 66.7%┣┫ 384/576 [00:11<00:05, 36it/s]\n"
     ]
    },
    {
     "name": "stdout",
     "output_type": "stream",
     "text": [
      "\u0007"
     ]
    },
    {
     "name": "stderr",
     "output_type": "stream",
     "text": [
      "Frame count: 96, thislog: 5.25227342804663 67.0%┣┫ 386/576 [00:11<00:05, 35it/s]\n"
     ]
    },
    {
     "name": "stdout",
     "output_type": "stream",
     "text": [
      "\u0007"
     ]
    },
    {
     "name": "stderr",
     "output_type": "stream",
     "text": [
      "Frame count: 97, thislog: 5.241747015059643 67.4%┣┫ 388/576 [00:11<00:05, 35it/s]\n",
      "\u001b[1A\r"
     ]
    },
    {
     "name": "stdout",
     "output_type": "stream",
     "text": [
      "\u0007"
     ]
    },
    {
     "name": "stderr",
     "output_type": "stream",
     "text": [
      "Frame count: 98, thislog: 5.231108616854587 67.7%┣┫ 390/576 [00:11<00:05, 35it/s]\n"
     ]
    },
    {
     "name": "stdout",
     "output_type": "stream",
     "text": [
      "\u0007"
     ]
    },
    {
     "name": "stderr",
     "output_type": "stream",
     "text": [
      "Frame count: 99, thislog: 5.220355825078324 68.1%┣┫ 392/576 [00:11<00:05, 35it/s]\n"
     ]
    },
    {
     "name": "stdout",
     "output_type": "stream",
     "text": [
      "\u0007"
     ]
    },
    {
     "name": "stderr",
     "output_type": "stream",
     "text": [
      "Frame count: 100, thislog: 5.209486152841421 68.4%┣┫ 394/576 [00:11<00:05, 35it/s]\n"
     ]
    },
    {
     "name": "stdout",
     "output_type": "stream",
     "text": [
      "\u0007"
     ]
    },
    {
     "name": "stderr",
     "output_type": "stream",
     "text": [
      "Frame count: 101, thislog: 5.198497031265826 68.8%┣┫ 396/576 [00:11<00:05, 35it/s]\n"
     ]
    },
    {
     "name": "stdout",
     "output_type": "stream",
     "text": [
      "\u0007"
     ]
    },
    {
     "name": "stderr",
     "output_type": "stream",
     "text": [
      "Frame count: 102, thislog: 5.187385805840755 69.1%┣┫ 398/576 [00:12<00:05, 34it/s]\n"
     ]
    },
    {
     "name": "stdout",
     "output_type": "stream",
     "text": [
      "\u0007"
     ]
    },
    {
     "name": "stderr",
     "output_type": "stream",
     "text": [
      "Frame count: 103, thislog: 5.176149732573829 69.4%┣┫ 400/576 [00:12<00:05, 34it/s]\n"
     ]
    },
    {
     "name": "stdout",
     "output_type": "stream",
     "text": [
      "\u0007"
     ]
    },
    {
     "name": "stderr",
     "output_type": "stream",
     "text": [
      "Frame count: 104, thislog: 5.1647859739235145 69.8%┣┫ 402/576 [00:12<00:05, 34it/s]\n"
     ]
    },
    {
     "name": "stdout",
     "output_type": "stream",
     "text": [
      "\u0007"
     ]
    },
    {
     "name": "stderr",
     "output_type": "stream",
     "text": [
      "Frame count: 105, thislog: 5.153291594497779 70.1%┣┫ 404/576 [00:12<00:05, 34it/s]\n"
     ]
    },
    {
     "name": "stdout",
     "output_type": "stream",
     "text": [
      "\u0007"
     ]
    },
    {
     "name": "stderr",
     "output_type": "stream",
     "text": [
      "Frame count: 106, thislog: 5.14166355650266 70.5%┣┫ 406/576 [00:12<00:05, 34it/s]\n"
     ]
    },
    {
     "name": "stdout",
     "output_type": "stream",
     "text": [
      "\u0007"
     ]
    },
    {
     "name": "stderr",
     "output_type": "stream",
     "text": [
      "Frame count: 107, thislog: 5.1298987149230735 70.8%┣┫ 408/576 [00:12<00:05, 34it/s]\n"
     ]
    },
    {
     "name": "stdout",
     "output_type": "stream",
     "text": [
      "\u0007"
     ]
    },
    {
     "name": "stderr",
     "output_type": "stream",
     "text": [
      "Frame count: 108, thislog: 5.117993812416755 71.2%┣┫ 410/576 [00:12<00:05, 33it/s]\n"
     ]
    },
    {
     "name": "stdout",
     "output_type": "stream",
     "text": [
      "\u0007"
     ]
    },
    {
     "name": "stderr",
     "output_type": "stream",
     "text": [
      "Frame count: 109, thislog: 5.10594547390058 71.5%┣┫ 412/576 [00:12<00:05, 33it/s]\n"
     ]
    },
    {
     "name": "stdout",
     "output_type": "stream",
     "text": [
      "\u0007"
     ]
    },
    {
     "name": "stderr",
     "output_type": "stream",
     "text": [
      "Frame count: 110, thislog: 5.093750200806762 71.9%┣┫ 414/576 [00:12<00:05, 33it/s]\n"
     ]
    },
    {
     "name": "stdout",
     "output_type": "stream",
     "text": [
      "\u0007"
     ]
    },
    {
     "name": "stderr",
     "output_type": "stream",
     "text": [
      "Frame count: 111, thislog: 5.081404364984463 72.2%┣┫ 416/576 [00:13<00:05, 33it/s]\n"
     ]
    },
    {
     "name": "stdout",
     "output_type": "stream",
     "text": [
      "\u0007"
     ]
    },
    {
     "name": "stderr",
     "output_type": "stream",
     "text": [
      "Frame count: 112, thislog: 5.0689042022202315 72.6%┣┫ 418/576 [00:13<00:05, 33it/s]\n"
     ]
    },
    {
     "name": "stdout",
     "output_type": "stream",
     "text": [
      "\u0007"
     ]
    },
    {
     "name": "stderr",
     "output_type": "stream",
     "text": [
      "Frame count: 113, thislog: 5.056245805348308 72.9%┣┫ 420/576 [00:13<00:05, 33it/s]\n"
     ]
    },
    {
     "name": "stdout",
     "output_type": "stream",
     "text": [
      "\u0007"
     ]
    },
    {
     "name": "stderr",
     "output_type": "stream",
     "text": [
      "Frame count: 114, thislog: 5.043425116919247 73.3%┣┫ 422/576 [00:13<00:05, 33it/s]\n"
     ]
    },
    {
     "name": "stdout",
     "output_type": "stream",
     "text": [
      "\u0007"
     ]
    },
    {
     "name": "stderr",
     "output_type": "stream",
     "text": [
      "Frame count: 115, thislog: 5.030437921392435 73.6%┣┫ 424/576 [00:13<00:05, 33it/s]\n",
      "\u001b[1A\r"
     ]
    },
    {
     "name": "stdout",
     "output_type": "stream",
     "text": [
      "\u0007"
     ]
    },
    {
     "name": "stderr",
     "output_type": "stream",
     "text": [
      "Frame count: 116, thislog: 5.017279836814924 74.0%┣┫ 426/576 [00:13<00:05, 33it/s]\n"
     ]
    },
    {
     "name": "stdout",
     "output_type": "stream",
     "text": [
      "\u0007"
     ]
    },
    {
     "name": "stderr",
     "output_type": "stream",
     "text": [
      "Frame count: 117, thislog: 5.003946305945459 74.3%┣┫ 428/576 [00:13<00:05, 32it/s]\n"
     ]
    },
    {
     "name": "stdout",
     "output_type": "stream",
     "text": [
      "\u0007"
     ]
    },
    {
     "name": "stderr",
     "output_type": "stream",
     "text": [
      "Frame count: 118, thislog: 4.990432586778736 74.7%┣┫ 430/576 [00:13<00:05, 32it/s]\n"
     ]
    },
    {
     "name": "stdout",
     "output_type": "stream",
     "text": [
      "\u0007"
     ]
    },
    {
     "name": "stderr",
     "output_type": "stream",
     "text": [
      "Frame count: 119, thislog: 4.976733742420574 75.0%┣┫ 432/576 [00:13<00:04, 32it/s]\n"
     ]
    },
    {
     "name": "stdout",
     "output_type": "stream",
     "text": [
      "\u0007"
     ]
    },
    {
     "name": "stderr",
     "output_type": "stream",
     "text": [
      "Frame count: 120, thislog: 4.962844630259907 75.3%┣┫ 434/576 [00:14<00:04, 32it/s]\n"
     ]
    },
    {
     "name": "stdout",
     "output_type": "stream",
     "text": [
      "\u0007"
     ]
    },
    {
     "name": "stderr",
     "output_type": "stream",
     "text": [
      "Frame count: 121, thislog: 4.948759890378168 75.7%┣┫ 436/576 [00:14<00:04, 32it/s]\n"
     ]
    },
    {
     "name": "stdout",
     "output_type": "stream",
     "text": [
      "\u0007"
     ]
    },
    {
     "name": "stderr",
     "output_type": "stream",
     "text": [
      "Frame count: 122, thislog: 4.9344739331306915 76.0%┣┫ 438/576 [00:14<00:04, 32it/s]\n"
     ]
    },
    {
     "name": "stdout",
     "output_type": "stream",
     "text": [
      "\u0007"
     ]
    },
    {
     "name": "stderr",
     "output_type": "stream",
     "text": [
      "Frame count: 123, thislog: 4.919980925828125 76.4%┣┫ 440/576 [00:14<00:04, 32it/s]\n"
     ]
    },
    {
     "name": "stdout",
     "output_type": "stream",
     "text": [
      "\u0007"
     ]
    },
    {
     "name": "stderr",
     "output_type": "stream",
     "text": [
      "Frame count: 124, thislog: 4.90527477843843 76.7%┣┫ 442/576 [00:14<00:04, 32it/s]\n"
     ]
    },
    {
     "name": "stdout",
     "output_type": "stream",
     "text": [
      "\u0007"
     ]
    },
    {
     "name": "stderr",
     "output_type": "stream",
     "text": [
      "Frame count: 125, thislog: 4.890349128221754 77.1%┣┫ 444/576 [00:14<00:04, 31it/s]\n"
     ]
    },
    {
     "name": "stdout",
     "output_type": "stream",
     "text": [
      "\u0007"
     ]
    },
    {
     "name": "stderr",
     "output_type": "stream",
     "text": [
      "Frame count: 126, thislog: 4.875197323201151 77.4%┣┫ 446/576 [00:14<00:04, 31it/s]\n"
     ]
    },
    {
     "name": "stdout",
     "output_type": "stream",
     "text": [
      "\u0007"
     ]
    },
    {
     "name": "stderr",
     "output_type": "stream",
     "text": [
      "Frame count: 127, thislog: 4.859812404361672 77.8%┣┫ 448/576 [00:14<00:04, 31it/s]\n"
     ]
    },
    {
     "name": "stdout",
     "output_type": "stream",
     "text": [
      "\u0007"
     ]
    },
    {
     "name": "stderr",
     "output_type": "stream",
     "text": [
      "Frame count: 128, thislog: 4.844187086458591 78.1%┣┫ 450/576 [00:14<00:04, 31it/s]\n"
     ]
    },
    {
     "name": "stdout",
     "output_type": "stream",
     "text": [
      "\u0007"
     ]
    },
    {
     "name": "stderr",
     "output_type": "stream",
     "text": [
      "Frame count: 129, thislog: 4.8283137373023015 78.5%┣┫ 452/576 [00:15<00:04, 31it/s]\n"
     ]
    },
    {
     "name": "stdout",
     "output_type": "stream",
     "text": [
      "\u0007"
     ]
    },
    {
     "name": "stderr",
     "output_type": "stream",
     "text": [
      "Frame count: 130, thislog: 4.812184355372417 78.8%┣┫ 454/576 [00:15<00:04, 31it/s]\n"
     ]
    },
    {
     "name": "stdout",
     "output_type": "stream",
     "text": [
      "\u0007"
     ]
    },
    {
     "name": "stderr",
     "output_type": "stream",
     "text": [
      "Frame count: 131, thislog: 4.795790545596741 79.2%┣┫ 456/576 [00:15<00:04, 31it/s]\n"
     ]
    },
    {
     "name": "stdout",
     "output_type": "stream",
     "text": [
      "\u0007"
     ]
    },
    {
     "name": "stderr",
     "output_type": "stream",
     "text": [
      "Frame count: 132, thislog: 4.77912349311153 79.5%┣┫ 458/576 [00:15<00:04, 31it/s]\n"
     ]
    },
    {
     "name": "stdout",
     "output_type": "stream",
     "text": [
      "\u0007"
     ]
    },
    {
     "name": "stderr",
     "output_type": "stream",
     "text": [
      "Frame count: 133, thislog: 4.762173934797756 79.9%┣┫ 460/576 [00:15<00:04, 30it/s]\n"
     ]
    },
    {
     "name": "stdout",
     "output_type": "stream",
     "text": [
      "\u0007"
     ]
    },
    {
     "name": "stderr",
     "output_type": "stream",
     "text": [
      "Frame count: 134, thislog: 4.74493212836325 80.2%┣┫ 462/576 [00:15<00:04, 30it/s]\n"
     ]
    },
    {
     "name": "stdout",
     "output_type": "stream",
     "text": [
      "\u0007"
     ]
    },
    {
     "name": "stderr",
     "output_type": "stream",
     "text": [
      "Frame count: 135, thislog: 4.727387818712341 80.6%┣┫ 464/576 [00:15<00:04, 30it/s]\n"
     ]
    },
    {
     "name": "stdout",
     "output_type": "stream",
     "text": [
      "\u0007"
     ]
    },
    {
     "name": "stderr",
     "output_type": "stream",
     "text": [
      "Frame count: 136, thislog: 4.709530201312334 80.9%┣┫ 466/576 [00:15<00:04, 30it/s]\n"
     ]
    },
    {
     "name": "stdout",
     "output_type": "stream",
     "text": [
      "\u0007"
     ]
    },
    {
     "name": "stderr",
     "output_type": "stream",
     "text": [
      "Frame count: 137, thislog: 4.6913478822291435 81.2%┣┫ 468/576 [00:15<00:04, 30it/s]\n"
     ]
    },
    {
     "name": "stdout",
     "output_type": "stream",
     "text": [
      "\u0007"
     ]
    },
    {
     "name": "stderr",
     "output_type": "stream",
     "text": [
      "Frame count: 138, thislog: 4.672828834461906 81.6%┣┫ 470/576 [00:16<00:04, 30it/s]\n"
     ]
    },
    {
     "name": "stdout",
     "output_type": "stream",
     "text": [
      "\u0007"
     ]
    },
    {
     "name": "stderr",
     "output_type": "stream",
     "text": [
      "Frame count: 139, thislog: 4.653960350157523 81.9%┣┫ 472/576 [00:16<00:03, 30it/s]\n"
     ]
    },
    {
     "name": "stdout",
     "output_type": "stream",
     "text": [
      "\u0007"
     ]
    },
    {
     "name": "stderr",
     "output_type": "stream",
     "text": [
      "Frame count: 140, thislog: 4.634728988229636 82.3%┣┫ 474/576 [00:16<00:03, 30it/s]\n"
     ]
    },
    {
     "name": "stdout",
     "output_type": "stream",
     "text": [
      "\u0007"
     ]
    },
    {
     "name": "stderr",
     "output_type": "stream",
     "text": [
      "Frame count: 141, thislog: 4.61512051684126 82.6%┣┫ 476/576 [00:16<00:03, 30it/s]\n"
     ]
    },
    {
     "name": "stdout",
     "output_type": "stream",
     "text": [
      "\u0007"
     ]
    },
    {
     "name": "stderr",
     "output_type": "stream",
     "text": [
      "Frame count: 142, thislog: 4.59511985013459 83.0%┣┫ 478/576 [00:16<00:03, 30it/s]\n"
     ]
    },
    {
     "name": "stdout",
     "output_type": "stream",
     "text": [
      "\u0007"
     ]
    },
    {
     "name": "stderr",
     "output_type": "stream",
     "text": [
      "Frame count: 143, thislog: 4.584967478670572 83.2%┣┫ 479/576 [00:16<00:03, 30it/s]\n"
     ]
    },
    {
     "name": "stdout",
     "output_type": "stream",
     "text": [
      "\u0007"
     ]
    },
    {
     "name": "stderr",
     "output_type": "stream",
     "text": [
      "Frame count: 144, thislog: 4.574710978503383 83.3%┣┫ 480/576 [00:16<00:03, 29it/s]\n"
     ]
    },
    {
     "name": "stdout",
     "output_type": "stream",
     "text": [
      "\u0007"
     ]
    },
    {
     "name": "stderr",
     "output_type": "stream",
     "text": [
      "Frame count: 145, thislog: 4.564348191467836 83.5%┣┫ 481/576 [00:16<00:03, 29it/s]\n"
     ]
    },
    {
     "name": "stdout",
     "output_type": "stream",
     "text": [
      "\u0007"
     ]
    },
    {
     "name": "stderr",
     "output_type": "stream",
     "text": [
      "Frame count: 146, thislog: 4.553876891600541 83.7%┣┫ 482/576 [00:17<00:03, 29it/s]\n"
     ]
    },
    {
     "name": "stdout",
     "output_type": "stream",
     "text": [
      "\u0007"
     ]
    },
    {
     "name": "stderr",
     "output_type": "stream",
     "text": [
      "Frame count: 147, thislog: 4.543294782270004 83.9%┣┫ 483/576 [00:17<00:03, 29it/s]\n"
     ]
    },
    {
     "name": "stdout",
     "output_type": "stream",
     "text": [
      "\u0007"
     ]
    },
    {
     "name": "stderr",
     "output_type": "stream",
     "text": [
      "Frame count: 148, thislog: 4.532599493153256 84.0%┣┫ 484/576 [00:17<00:03, 29it/s]\n"
     ]
    },
    {
     "name": "stdout",
     "output_type": "stream",
     "text": [
      "\u0007"
     ]
    },
    {
     "name": "stderr",
     "output_type": "stream",
     "text": [
      "Frame count: 149, thislog: 4.5217885770490405 84.2%┣┫ 485/576 [00:17<00:03, 29it/s]\n"
     ]
    },
    {
     "name": "stdout",
     "output_type": "stream",
     "text": [
      "\u0007"
     ]
    },
    {
     "name": "stderr",
     "output_type": "stream",
     "text": [
      "Frame count: 150, thislog: 4.51085950651685 84.4%┣┫ 486/576 [00:17<00:03, 29it/s]\n"
     ]
    },
    {
     "name": "stdout",
     "output_type": "stream",
     "text": [
      "\u0007"
     ]
    },
    {
     "name": "stderr",
     "output_type": "stream",
     "text": [
      "Frame count: 151, thislog: 4.499809670330265 84.5%┣┫ 487/576 [00:17<00:03, 28it/s]\n"
     ]
    },
    {
     "name": "stdout",
     "output_type": "stream",
     "text": [
      "\u0007"
     ]
    },
    {
     "name": "stderr",
     "output_type": "stream",
     "text": [
      "Frame count: 152, thislog: 4.48863636973214 84.7%┣┫ 488/576 [00:17<00:03, 28it/s]\n"
     ]
    },
    {
     "name": "stdout",
     "output_type": "stream",
     "text": [
      "\u0007"
     ]
    },
    {
     "name": "stderr",
     "output_type": "stream",
     "text": [
      "Frame count: 153, thislog: 4.477336814478207 84.9%┣┫ 489/576 [00:17<00:03, 28it/s]\n"
     ]
    },
    {
     "name": "stdout",
     "output_type": "stream",
     "text": [
      "\u0007"
     ]
    },
    {
     "name": "stderr",
     "output_type": "stream",
     "text": [
      "Frame count: 154, thislog: 4.465908118654584 85.1%┣┫ 490/576 [00:17<00:03, 28it/s]\n",
      "\u001b[1A\r"
     ]
    },
    {
     "name": "stdout",
     "output_type": "stream",
     "text": [
      "\u0007"
     ]
    },
    {
     "name": "stderr",
     "output_type": "stream",
     "text": [
      "Frame count: 155, thislog: 4.454347296253507 85.2%┣┫ 491/576 [00:18<00:03, 28it/s]\n",
      "\u001b[1A\r"
     ]
    },
    {
     "name": "stdout",
     "output_type": "stream",
     "text": [
      "\u0007"
     ]
    },
    {
     "name": "stderr",
     "output_type": "stream",
     "text": [
      "Frame count: 156, thislog: 4.442651256490317 85.4%┣┫ 492/576 [00:18<00:03, 28it/s]\n"
     ]
    },
    {
     "name": "stdout",
     "output_type": "stream",
     "text": [
      "\u0007"
     ]
    },
    {
     "name": "stderr",
     "output_type": "stream",
     "text": [
      "Frame count: 157, thislog: 4.430816798843313 85.6%┣┫ 493/576 [00:18<00:03, 28it/s]\n"
     ]
    },
    {
     "name": "stdout",
     "output_type": "stream",
     "text": [
      "\u0007"
     ]
    },
    {
     "name": "stderr",
     "output_type": "stream",
     "text": [
      "Frame count: 158, thislog: 4.418840607796598 85.8%┣┫ 494/576 [00:18<00:03, 28it/s]\n"
     ]
    },
    {
     "name": "stdout",
     "output_type": "stream",
     "text": [
      "\u0007"
     ]
    },
    {
     "name": "stderr",
     "output_type": "stream",
     "text": [
      "Frame count: 159, thislog: 4.406719247264253 85.9%┣┫ 495/576 [00:18<00:03, 27it/s]\n"
     ]
    },
    {
     "name": "stdout",
     "output_type": "stream",
     "text": [
      "\u0007"
     ]
    },
    {
     "name": "stderr",
     "output_type": "stream",
     "text": [
      "Frame count: 160, thislog: 4.394449154672439 86.1%┣┫ 496/576 [00:18<00:03, 27it/s]\n"
     ]
    },
    {
     "name": "stdout",
     "output_type": "stream",
     "text": [
      "\u0007"
     ]
    },
    {
     "name": "stderr",
     "output_type": "stream",
     "text": [
      "Frame count: 161, thislog: 4.382026634673881 86.3%┣┫ 497/576 [00:18<00:03, 27it/s]\n"
     ]
    },
    {
     "name": "stdout",
     "output_type": "stream",
     "text": [
      "\u0007"
     ]
    },
    {
     "name": "stderr",
     "output_type": "stream",
     "text": [
      "Frame count: 162, thislog: 4.3694478524670215 86.5%┣┫ 498/576 [00:18<00:03, 27it/s]\n"
     ]
    },
    {
     "name": "stdout",
     "output_type": "stream",
     "text": [
      "\u0007"
     ]
    },
    {
     "name": "stderr",
     "output_type": "stream",
     "text": [
      "Frame count: 163, thislog: 4.356708826689592 86.6%┣┫ 499/576 [00:18<00:03, 27it/s]\n"
     ]
    },
    {
     "name": "stdout",
     "output_type": "stream",
     "text": [
      "\u0007"
     ]
    },
    {
     "name": "stderr",
     "output_type": "stream",
     "text": [
      "Frame count: 164, thislog: 4.343805421853684 86.8%┣┫ 500/576 [00:19<00:03, 27it/s]\n"
     ]
    },
    {
     "name": "stdout",
     "output_type": "stream",
     "text": [
      "\u0007"
     ]
    },
    {
     "name": "stderr",
     "output_type": "stream",
     "text": [
      "Frame count: 165, thislog: 4.330733340286331 87.0%┣┫ 501/576 [00:19<00:03, 27it/s]\n"
     ]
    },
    {
     "name": "stdout",
     "output_type": "stream",
     "text": [
      "\u0007\u0007"
     ]
    },
    {
     "name": "stderr",
     "output_type": "stream",
     "text": [
      "Frame count: 166, thislog: 4.31748811353631 87.2%┣┫ 502/576 [00:19<00:03, 27it/s]\n",
      "Frame count: 167, thislog: 4.30406509320417 87.3%┣┫ 503/576 [00:19<00:03, 27it/s]\n"
     ]
    },
    {
     "name": "stdout",
     "output_type": "stream",
     "text": [
      "\u0007"
     ]
    },
    {
     "name": "stderr",
     "output_type": "stream",
     "text": [
      "Frame count: 168, thislog: 4.290459441148391 87.5%┣┫ 504/576 [00:19<00:03, 26it/s]\n"
     ]
    },
    {
     "name": "stdout",
     "output_type": "stream",
     "text": [
      "\u0007"
     ]
    },
    {
     "name": "stderr",
     "output_type": "stream",
     "text": [
      "Frame count: 169, thislog: 4.276666119016055 87.7%┣┫ 505/576 [00:19<00:03, 26it/s]\n"
     ]
    },
    {
     "name": "stdout",
     "output_type": "stream",
     "text": [
      "\u0007"
     ]
    },
    {
     "name": "stderr",
     "output_type": "stream",
     "text": [
      "Frame count: 170, thislog: 4.2626798770413155 87.8%┣┫ 506/576 [00:19<00:03, 26it/s]\n"
     ]
    },
    {
     "name": "stdout",
     "output_type": "stream",
     "text": [
      "\u0007"
     ]
    },
    {
     "name": "stderr",
     "output_type": "stream",
     "text": [
      "Frame count: 171, thislog: 4.248495242049359 88.0%┣┫ 507/576 [00:19<00:03, 26it/s]\n"
     ]
    },
    {
     "name": "stdout",
     "output_type": "stream",
     "text": [
      "\u0007"
     ]
    },
    {
     "name": "stderr",
     "output_type": "stream",
     "text": [
      "Frame count: 172, thislog: 4.23410650459726 88.2%┣┫ 508/576 [00:19<00:03, 26it/s]\n"
     ]
    },
    {
     "name": "stdout",
     "output_type": "stream",
     "text": [
      "\u0007"
     ]
    },
    {
     "name": "stderr",
     "output_type": "stream",
     "text": [
      "Frame count: 173, thislog: 4.219507705176107 88.4%┣┫ 509/576 [00:20<00:03, 26it/s]\n"
     ]
    },
    {
     "name": "stdout",
     "output_type": "stream",
     "text": [
      "\u0007"
     ]
    },
    {
     "name": "stderr",
     "output_type": "stream",
     "text": [
      "Frame count: 174, thislog: 4.204692619390966 88.5%┣┫ 510/576 [00:20<00:03, 26it/s]\n"
     ]
    },
    {
     "name": "stdout",
     "output_type": "stream",
     "text": [
      "\u0007\u0007"
     ]
    },
    {
     "name": "stderr",
     "output_type": "stream",
     "text": [
      "Frame count: 175, thislog: 4.189654742026425 88.7%┣┫ 511/576 [00:20<00:03, 26it/s]\n",
      "Frame count: 176, thislog: 4.174387269895637 88.9%┣┫ 512/576 [00:20<00:02, 26it/s]\n"
     ]
    },
    {
     "name": "stdout",
     "output_type": "stream",
     "text": [
      "\u0007\u0007"
     ]
    },
    {
     "name": "stderr",
     "output_type": "stream",
     "text": [
      "Frame count: 177, thislog: 4.1588830833596715 89.1%┣┫ 513/576 [00:20<00:02, 26it/s]\n",
      "Frame count: 178, thislog: 4.143134726391533 89.2%┣┫ 514/576 [00:20<00:02, 25it/s]\n"
     ]
    },
    {
     "name": "stdout",
     "output_type": "stream",
     "text": [
      "\u0007\u0007"
     ]
    },
    {
     "name": "stderr",
     "output_type": "stream",
     "text": [
      "Frame count: 179, thislog: 4.127134385045092 89.4%┣┫ 515/576 [00:20<00:02, 25it/s]\n",
      "Frame count: 180, thislog: 4.110873864173311 89.6%┣┫ 516/576 [00:20<00:02, 25it/s]\n"
     ]
    },
    {
     "name": "stdout",
     "output_type": "stream",
     "text": [
      "\u0007"
     ]
    },
    {
     "name": "stderr",
     "output_type": "stream",
     "text": [
      "Frame count: 181, thislog: 4.0943445622221 89.8%┣┫ 517/576 [00:20<00:02, 25it/s]\n",
      "\u001b[1A\r"
     ]
    },
    {
     "name": "stdout",
     "output_type": "stream",
     "text": [
      "\u0007"
     ]
    },
    {
     "name": "stderr",
     "output_type": "stream",
     "text": [
      "Frame count: 182, thislog: 4.07753744390572 89.9%┣┫ 518/576 [00:21<00:02, 25it/s]\n"
     ]
    },
    {
     "name": "stdout",
     "output_type": "stream",
     "text": [
      "\u0007\u0007"
     ]
    },
    {
     "name": "stderr",
     "output_type": "stream",
     "text": [
      "Frame count: 183, thislog: 4.060443010546419 90.1%┣┫ 519/576 [00:21<00:02, 25it/s]\n",
      "Frame count: 184, thislog: 4.04305126783455 90.3%┣┫ 520/576 [00:21<00:02, 25it/s]\n"
     ]
    },
    {
     "name": "stdout",
     "output_type": "stream",
     "text": [
      "\u0007"
     ]
    },
    {
     "name": "stderr",
     "output_type": "stream",
     "text": [
      "Frame count: 185, thislog: 4.02535169073515 90.5%┣┫ 521/576 [00:21<00:02, 25it/s]\n"
     ]
    },
    {
     "name": "stdout",
     "output_type": "stream",
     "text": [
      "\u0007"
     ]
    },
    {
     "name": "stderr",
     "output_type": "stream",
     "text": [
      "Frame count: 186, thislog: 4.007333185232471 90.6%┣┫ 522/576 [00:21<00:02, 25it/s]\n"
     ]
    },
    {
     "name": "stdout",
     "output_type": "stream",
     "text": [
      "\u0007"
     ]
    },
    {
     "name": "stderr",
     "output_type": "stream",
     "text": [
      "Frame count: 187, thislog: 3.9889840465642745 90.8%┣┫ 523/576 [00:21<00:02, 25it/s]\n"
     ]
    },
    {
     "name": "stdout",
     "output_type": "stream",
     "text": [
      "\u0007"
     ]
    },
    {
     "name": "stderr",
     "output_type": "stream",
     "text": [
      "Frame count: 188, thislog: 3.970291913552122 91.0%┣┫ 524/576 [00:21<00:02, 25it/s]\n"
     ]
    },
    {
     "name": "stdout",
     "output_type": "stream",
     "text": [
      "\u0007"
     ]
    },
    {
     "name": "stderr",
     "output_type": "stream",
     "text": [
      "Frame count: 189, thislog: 3.9512437185814275 91.1%┣┫ 525/576 [00:21<00:02, 25it/s]\n"
     ]
    },
    {
     "name": "stdout",
     "output_type": "stream",
     "text": [
      "\u0007"
     ]
    },
    {
     "name": "stderr",
     "output_type": "stream",
     "text": [
      "Frame count: 190, thislog: 3.9318256327243257 91.3%┣┫ 526/576 [00:21<00:02, 25it/s]\n"
     ]
    },
    {
     "name": "stdout",
     "output_type": "stream",
     "text": [
      "\u0007"
     ]
    },
    {
     "name": "stderr",
     "output_type": "stream",
     "text": [
      "Frame count: 191, thislog: 3.912023005428146 91.5%┣┫ 527/576 [00:21<00:02, 25it/s]\n"
     ]
    },
    {
     "name": "stdout",
     "output_type": "stream",
     "text": [
      "\u0007"
     ]
    },
    {
     "name": "stderr",
     "output_type": "stream",
     "text": [
      "Frame count: 192, thislog: 3.8918202981106265 91.7%┣┫ 528/576 [00:22<00:02, 24it/s]\n"
     ]
    },
    {
     "name": "stdout",
     "output_type": "stream",
     "text": [
      "\u0007"
     ]
    },
    {
     "name": "stderr",
     "output_type": "stream",
     "text": [
      "Frame count: 193, thislog: 3.871201010907891 91.8%┣┫ 529/576 [00:22<00:02, 24it/s]\n"
     ]
    },
    {
     "name": "stdout",
     "output_type": "stream",
     "text": [
      "\u0007"
     ]
    },
    {
     "name": "stderr",
     "output_type": "stream",
     "text": [
      "Frame count: 194, thislog: 3.8501476017100584 92.0%┣┫ 530/576 [00:22<00:02, 24it/s]\n"
     ]
    },
    {
     "name": "stdout",
     "output_type": "stream",
     "text": [
      "\u0007"
     ]
    },
    {
     "name": "stderr",
     "output_type": "stream",
     "text": [
      "Frame count: 195, thislog: 3.828641396489095 92.2%┣┫ 531/576 [00:22<00:02, 24it/s]\n"
     ]
    },
    {
     "name": "stdout",
     "output_type": "stream",
     "text": [
      "\u0007"
     ]
    },
    {
     "name": "stderr",
     "output_type": "stream",
     "text": [
      "Frame count: 196, thislog: 3.8066624897703196 92.4%┣┫ 532/576 [00:22<00:02, 24it/s]\n"
     ]
    },
    {
     "name": "stdout",
     "output_type": "stream",
     "text": [
      "\u0007"
     ]
    },
    {
     "name": "stderr",
     "output_type": "stream",
     "text": [
      "Frame count: 197, thislog: 3.784189633918261 92.5%┣┫ 533/576 [00:22<00:02, 24it/s]\n"
     ]
    },
    {
     "name": "stdout",
     "output_type": "stream",
     "text": [
      "\u0007"
     ]
    },
    {
     "name": "stderr",
     "output_type": "stream",
     "text": [
      "Frame count: 198, thislog: 3.7612001156935624 92.7%┣┫ 534/576 [00:22<00:02, 24it/s]\n"
     ]
    },
    {
     "name": "stdout",
     "output_type": "stream",
     "text": [
      "\u0007"
     ]
    },
    {
     "name": "stderr",
     "output_type": "stream",
     "text": [
      "Frame count: 199, thislog: 3.7376696182833684 92.9%┣┫ 535/576 [00:23<00:02, 24it/s]\n"
     ]
    },
    {
     "name": "stdout",
     "output_type": "stream",
     "text": [
      "\u0007\u0007"
     ]
    },
    {
     "name": "stderr",
     "output_type": "stream",
     "text": [
      "Frame count: 200, thislog: 3.713572066704308 93.1%┣┫ 536/576 [00:23<00:02, 24it/s]\n",
      "Frame count: 201, thislog: 3.6888794541139363 93.2%┣┫ 537/576 [00:23<00:02, 24it/s]\n"
     ]
    },
    {
     "name": "stdout",
     "output_type": "stream",
     "text": [
      "\u0007"
     ]
    },
    {
     "name": "stderr",
     "output_type": "stream",
     "text": [
      "Frame count: 202, thislog: 3.6635616461296463 93.4%┣┫ 538/576 [00:23<00:02, 24it/s]\n"
     ]
    },
    {
     "name": "stdout",
     "output_type": "stream",
     "text": [
      "\u0007"
     ]
    },
    {
     "name": "stderr",
     "output_type": "stream",
     "text": [
      "Frame count: 203, thislog: 3.6375861597263857 93.6%┣┫ 539/576 [00:23<00:02, 23it/s]\n"
     ]
    },
    {
     "name": "stdout",
     "output_type": "stream",
     "text": [
      "\u0007"
     ]
    },
    {
     "name": "stderr",
     "output_type": "stream",
     "text": [
      "Frame count: 204, thislog: 3.6109179126442243 93.8%┣┫ 540/576 [00:23<00:02, 23it/s]\n"
     ]
    },
    {
     "name": "stdout",
     "output_type": "stream",
     "text": [
      "\u0007"
     ]
    },
    {
     "name": "stderr",
     "output_type": "stream",
     "text": [
      "Frame count: 205, thislog: 3.58351893845611 93.9%┣┫ 541/576 [00:23<00:02, 23it/s]\n"
     ]
    },
    {
     "name": "stdout",
     "output_type": "stream",
     "text": [
      "\u0007"
     ]
    },
    {
     "name": "stderr",
     "output_type": "stream",
     "text": [
      "Frame count: 206, thislog: 3.5553480614894135 94.1%┣┫ 542/576 [00:23<00:01, 23it/s]\n"
     ]
    },
    {
     "name": "stdout",
     "output_type": "stream",
     "text": [
      "\u0007"
     ]
    },
    {
     "name": "stderr",
     "output_type": "stream",
     "text": [
      "Frame count: 207, thislog: 3.5263605246161616 94.3%┣┫ 543/576 [00:23<00:01, 23it/s]\n"
     ]
    },
    {
     "name": "stdout",
     "output_type": "stream",
     "text": [
      "\u0007"
     ]
    },
    {
     "name": "stderr",
     "output_type": "stream",
     "text": [
      "Frame count: 208, thislog: 3.4965075614664802 94.4%┣┫ 544/576 [00:24<00:01, 23it/s]\n"
     ]
    },
    {
     "name": "stdout",
     "output_type": "stream",
     "text": [
      "\u0007"
     ]
    },
    {
     "name": "stderr",
     "output_type": "stream",
     "text": [
      "Frame count: 209, thislog: 3.4657359027997265 94.6%┣┫ 545/576 [00:24<00:01, 23it/s]\n"
     ]
    },
    {
     "name": "stdout",
     "output_type": "stream",
     "text": [
      "\u0007"
     ]
    },
    {
     "name": "stderr",
     "output_type": "stream",
     "text": [
      "Frame count: 210, thislog: 3.4339872044851463 94.8%┣┫ 546/576 [00:24<00:01, 23it/s]\n"
     ]
    },
    {
     "name": "stdout",
     "output_type": "stream",
     "text": [
      "\u0007"
     ]
    },
    {
     "name": "stderr",
     "output_type": "stream",
     "text": [
      "Frame count: 211, thislog: 3.4011973816621555 95.0%┣┫ 547/576 [00:24<00:01, 23it/s]\n"
     ]
    },
    {
     "name": "stdout",
     "output_type": "stream",
     "text": [
      "\u0007"
     ]
    },
    {
     "name": "stderr",
     "output_type": "stream",
     "text": [
      "Frame count: 212, thislog: 3.367295829986474 95.1%┣┫ 548/576 [00:24<00:01, 23it/s]\n"
     ]
    },
    {
     "name": "stdout",
     "output_type": "stream",
     "text": [
      "\u0007"
     ]
    },
    {
     "name": "stderr",
     "output_type": "stream",
     "text": [
      "Frame count: 213, thislog: 3.332204510175204 95.3%┣┫ 549/576 [00:24<00:01, 23it/s]\n"
     ]
    },
    {
     "name": "stdout",
     "output_type": "stream",
     "text": [
      "\u0007"
     ]
    },
    {
     "name": "stderr",
     "output_type": "stream",
     "text": [
      "Frame count: 214, thislog: 3.295836866004329 95.5%┣┫ 550/576 [00:24<00:01, 23it/s]\n"
     ]
    },
    {
     "name": "stdout",
     "output_type": "stream",
     "text": [
      "\u0007"
     ]
    },
    {
     "name": "stderr",
     "output_type": "stream",
     "text": [
      "Frame count: 215, thislog: 3.258096538021482 95.7%┣┫ 551/576 [00:24<00:01, 23it/s]\n"
     ]
    },
    {
     "name": "stdout",
     "output_type": "stream",
     "text": [
      "\u0007"
     ]
    },
    {
     "name": "stderr",
     "output_type": "stream",
     "text": [
      "Frame count: 216, thislog: 3.2188758248682006 95.8%┣┫ 552/576 [00:24<00:01, 23it/s]\n"
     ]
    },
    {
     "name": "stdout",
     "output_type": "stream",
     "text": [
      "\u0007"
     ]
    },
    {
     "name": "stderr",
     "output_type": "stream",
     "text": [
      "Frame count: 217, thislog: 3.1780538303479458 96.0%┣┫ 553/576 [00:25<00:01, 22it/s]\n"
     ]
    },
    {
     "name": "stdout",
     "output_type": "stream",
     "text": [
      "\u0007\u0007"
     ]
    },
    {
     "name": "stderr",
     "output_type": "stream",
     "text": [
      "Frame count: 218, thislog: 3.1354942159291497 96.2%┣┫ 554/576 [00:25<00:01, 22it/s]\n",
      "Frame count: 219, thislog: 3.091042453358316 96.4%┣┫ 555/576 [00:25<00:01, 22it/s]\n"
     ]
    },
    {
     "name": "stdout",
     "output_type": "stream",
     "text": [
      "\u0007"
     ]
    },
    {
     "name": "stderr",
     "output_type": "stream",
     "text": [
      "Frame count: 220, thislog: 3.044522437723423 96.5%┣┫ 556/576 [00:25<00:01, 22it/s]\n"
     ]
    },
    {
     "name": "stdout",
     "output_type": "stream",
     "text": [
      "\u0007"
     ]
    },
    {
     "name": "stderr",
     "output_type": "stream",
     "text": [
      "Frame count: 221, thislog: 2.995732273553991 96.7%┣┫ 557/576 [00:25<00:01, 22it/s]\n"
     ]
    },
    {
     "name": "stdout",
     "output_type": "stream",
     "text": [
      "\u0007"
     ]
    },
    {
     "name": "stderr",
     "output_type": "stream",
     "text": [
      "Frame count: 222, thislog: 2.9444389791664403 96.9%┣┫ 558/576 [00:25<00:01, 22it/s]\n"
     ]
    },
    {
     "name": "stdout",
     "output_type": "stream",
     "text": [
      "\u0007"
     ]
    },
    {
     "name": "stderr",
     "output_type": "stream",
     "text": [
      "Frame count: 223, thislog: 2.8903717578961645 97.0%┣┫ 559/576 [00:25<00:01, 22it/s]\n"
     ]
    },
    {
     "name": "stdout",
     "output_type": "stream",
     "text": [
      "\u0007"
     ]
    },
    {
     "name": "stderr",
     "output_type": "stream",
     "text": [
      "Frame count: 224, thislog: 2.833213344056216 97.2%┣┫ 560/576 [00:25<00:01, 22it/s]\n"
     ]
    },
    {
     "name": "stdout",
     "output_type": "stream",
     "text": [
      "\u0007\u0007"
     ]
    },
    {
     "name": "stderr",
     "output_type": "stream",
     "text": [
      "Frame count: 225, thislog: 2.772588722239781 97.4%┣┫ 561/576 [00:25<00:01, 22it/s]\n",
      "Frame count: 226, thislog: 2.70805020110221 97.6%┣┫ 562/576 [00:25<00:01, 22it/s]\n"
     ]
    },
    {
     "name": "stdout",
     "output_type": "stream",
     "text": [
      "\u0007"
     ]
    },
    {
     "name": "stderr",
     "output_type": "stream",
     "text": [
      "Frame count: 227, thislog: 2.6390573296152584 97.7%┣┫ 563/576 [00:26<00:01, 22it/s]\n"
     ]
    },
    {
     "name": "stdout",
     "output_type": "stream",
     "text": [
      "\u0007"
     ]
    },
    {
     "name": "stderr",
     "output_type": "stream",
     "text": [
      "Frame count: 228, thislog: 2.5649493574615367 97.9%┣┫ 564/576 [00:26<00:01, 22it/s]\n"
     ]
    },
    {
     "name": "stdout",
     "output_type": "stream",
     "text": [
      "\u0007"
     ]
    },
    {
     "name": "stderr",
     "output_type": "stream",
     "text": [
      "Frame count: 229, thislog: 2.4849066497880004 98.1%┣┫ 565/576 [00:26<00:01, 22it/s]\n"
     ]
    },
    {
     "name": "stdout",
     "output_type": "stream",
     "text": [
      "\u0007\u0007"
     ]
    },
    {
     "name": "stderr",
     "output_type": "stream",
     "text": [
      "Frame count: 230, thislog: 2.3978952727983707 98.3%┣┫ 566/576 [00:26<00:00, 22it/s]\n",
      "Frame count: 231, thislog: 2.302585092994046 98.4%┣┫ 567/576 [00:26<00:00, 22it/s]\n"
     ]
    },
    {
     "name": "stdout",
     "output_type": "stream",
     "text": [
      "\u0007"
     ]
    },
    {
     "name": "stderr",
     "output_type": "stream",
     "text": [
      "Frame count: 232, thislog: 2.1972245773362196 98.6%┣┫ 568/576 [00:26<00:00, 22it/s]\n"
     ]
    },
    {
     "name": "stdout",
     "output_type": "stream",
     "text": [
      "contracted torus. lp\n"
     ]
    }
   ],
   "source": [
    "include(\"main.jl\")"
   ]
  }
 ],
 "metadata": {
  "kernelspec": {
   "display_name": "Julia 1.11.2",
   "language": "julia",
   "name": "julia-1.11"
  },
  "language_info": {
   "file_extension": ".jl",
   "mimetype": "application/julia",
   "name": "julia",
   "version": "1.11.2"
  }
 },
 "nbformat": 4,
 "nbformat_minor": 2
}
