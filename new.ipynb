{
 "cells": [
  {
   "cell_type": "code",
   "execution_count": 1,
   "metadata": {},
   "outputs": [],
   "source": [
    "using DataStructures\n",
    "using FileIO\n",
    "using Meshes\n",
    "using MeshIO\n",
    "using Makie\n",
    "using GLMakie\n",
    "using GeometryBasics\n",
    "using ProgressBars\n",
    "using JLD2\n",
    "using Serialization"
   ]
  },
  {
   "cell_type": "code",
   "execution_count": 21,
   "metadata": {},
   "outputs": [
    {
     "data": {
      "text/plain": [
       "loadsc (generic function with 1 method)"
      ]
     },
     "metadata": {},
     "output_type": "display_data"
    }
   ],
   "source": [
    "include(\"contractions.jl\")\n",
    "include(\"visualisation.jl\")\n",
    "include(\"preprocessing.jl\")"
   ]
  },
  {
   "cell_type": "code",
   "execution_count": null,
   "metadata": {},
   "outputs": [
    {
     "ename": "UndefVarError",
     "evalue": "UndefVarError: `face_center` not defined in `GeometryBasics`\nSuggestion: check for spelling errors or missing imports.",
     "output_type": "error",
     "traceback": [
      "UndefVarError: `face_center` not defined in `GeometryBasics`\n",
      "Suggestion: check for spelling errors or missing imports.\n",
      "\n",
      "Stacktrace:\n",
      " [1] visualizeNormals(self::SimplicialComplex2D)\n",
      "   @ Main ~/Documents/faks/topoloska-analiza-podatkov/project/visualisation.jl:71\n",
      " [2] top-level scope\n",
      "   @ ~/Documents/faks/topoloska-analiza-podatkov/project/jl_notebook_cell_df34fa98e69747e1a8f8a730347b8e2f_X10sZmlsZQ==.jl:8"
     ]
    }
   ],
   "source": [
    "bni = deserialize(\"bunidata.dat\")\n",
    "for vertex in bni.coords\n",
    "    # rotate by 90 degrees around the x-axis\n",
    "    vertex[2], vertex[3] = vertex[2] * cos(π / 2) - vertex[3] * sin(π / 2), vertex[2] * sin(π / 2) + vertex[3] * cos(π / 2)\n",
    "end\n",
    "include(\"visualisation.jl\")\n",
    "butthole = getborder(bni)\n",
    "visualize(bni, butthole)"
   ]
  }
 ],
 "metadata": {
  "kernelspec": {
   "display_name": "Julia 1.11.2",
   "language": "julia",
   "name": "julia-1.11"
  },
  "language_info": {
   "file_extension": ".jl",
   "mimetype": "application/julia",
   "name": "julia",
   "version": "1.11.2"
  }
 },
 "nbformat": 4,
 "nbformat_minor": 2
}
