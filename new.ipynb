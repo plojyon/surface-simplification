{
 "cells": [
  {
   "cell_type": "code",
   "execution_count": null,
   "metadata": {},
   "outputs": [],
   "source": []
  },
  {
   "cell_type": "code",
   "execution_count": null,
   "metadata": {},
   "outputs": [],
   "source": []
  },
  {
   "cell_type": "code",
   "execution_count": 1,
   "metadata": {},
   "outputs": [],
   "source": [
    "using DataStructures\n",
    "using FileIO\n",
    "using Meshes\n",
    "using MeshIO\n",
    "using Makie\n",
    "using GLMakie\n",
    "using GeometryBasics\n",
    "using ProgressBars\n",
    "using JLD2\n",
    "using Serialization"
   ]
  },
  {
   "cell_type": "code",
   "execution_count": 21,
   "metadata": {},
   "outputs": [
    {
     "data": {
      "text/plain": [
       "loadsc (generic function with 1 method)"
      ]
     },
     "metadata": {},
     "output_type": "display_data"
    }
   ],
   "source": [
    "include(\"contractions.jl\")\n",
    "include(\"visualisation.jl\")\n",
    "include(\"preprocessing.jl\")"
   ]
  },
  {
   "cell_type": "code",
   "execution_count": 40,
   "metadata": {},
   "outputs": [
    {
     "ename": "UndefVarError",
     "evalue": "UndefVarError: `face_center` not defined in `GeometryBasics`\nSuggestion: check for spelling errors or missing imports.",
     "output_type": "error",
     "traceback": [
      "UndefVarError: `face_center` not defined in `GeometryBasics`\n",
      "Suggestion: check for spelling errors or missing imports.\n",
      "\n",
      "Stacktrace:\n",
      " [1] visualizeNormals(self::SimplicialComplex2D)\n",
      "   @ Main ~/Documents/faks/topoloska-analiza-podatkov/project/visualisation.jl:71\n",
      " [2] top-level scope\n",
      "   @ ~/Documents/faks/topoloska-analiza-podatkov/project/jl_notebook_cell_df34fa98e69747e1a8f8a730347b8e2f_X10sZmlsZQ==.jl:8"
     ]
    }
   ],
   "source": [
    "bni = deserialize(\"bunidata.dat\")\n",
    "for vertex in bni.coords\n",
    "    # rotate by 90 degrees around the x-axis\n",
    "    vertex[2], vertex[3] = vertex[2] * cos(π / 2) - vertex[3] * sin(π / 2), vertex[2] * sin(π / 2) + vertex[3] * cos(π / 2)\n",
    "end\n",
    "include(\"visualisation.jl\")\n",
    "#visualize(bni)\n",
    "visualizeNormals(bni)"
   ]
  },
  {
   "cell_type": "code",
   "execution_count": null,
   "metadata": {},
   "outputs": [],
   "source": [
    "bunidata = deserialize(\"bunidata.dat\")\n",
    "buni = initialContractedSimplicialComplex2D(bunidata)\n",
    "fillholes!(buni.contracted)\n",
    "calculateFundamentalQuadratics!(buni)\n",
    "\n",
    "pq = PriorityQueue()\n",
    "for (edge, triangle) in ProgressBar(buni.contracted._edge_to_triangles)\n",
    "    pq[edge] = error(buni, edge)\n",
    "end"
   ]
  },
  {
   "cell_type": "code",
   "execution_count": null,
   "metadata": {},
   "outputs": [],
   "source": [
    "fig = Figure(size=(800, 600))\n",
    "ax = Axis3(fig[1, 1])\n",
    "\n",
    "while pq[first(first(pq))] < 0.8\n",
    "    myedge = dequeue!(pq)\n",
    "    while !issafe(buni.contracted, myedge)\n",
    "        myedge = dequeue!(pq)\n",
    "    end\n",
    "\n",
    "    new_vertex = contract!(buni, myedge)\n",
    "    for edge in buni.contracted._vertex_to_edges[new_vertex]\n",
    "        e = error(buni, edge)\n",
    "        pq[edge] = e\n",
    "    end\n",
    "\n",
    "    if log10(abs(pq[first(first(pq))])) - lastlog > 1\n",
    "        global lastlog\n",
    "        global img_count\n",
    "        d_mesh = scx2mesh(buni.contracted)\n",
    "        mesh!(ax, d_mesh)\n",
    "        wireframe!(ax, d_mesh, color=:black)\n",
    "        ax.azimuth[] = start_angle + 2pi * img_count / antispeed\n",
    "        recordframe!(io)  # record a new frame\n",
    "        #ax.scene[:children] = [] # clear Axis3\n",
    "\n",
    "        img_count += 1\n",
    "        lastlog = log10(abs(pq[first(first(pq))]))\n",
    "    end\n",
    "end"
   ]
  }
 ],
 "metadata": {
  "kernelspec": {
   "display_name": "Julia 1.11.2",
   "language": "julia",
   "name": "julia-1.11"
  },
  "language_info": {
   "file_extension": ".jl",
   "mimetype": "application/julia",
   "name": "julia",
   "version": "1.11.2"
  }
 },
 "nbformat": 4,
 "nbformat_minor": 2
}
