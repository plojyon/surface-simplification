{
 "cells": [
  {
   "cell_type": "code",
   "execution_count": 1,
   "metadata": {},
   "outputs": [],
   "source": [
    "using DataStructures\n",
    "using FileIO\n",
    "using Meshes\n",
    "using MeshIO\n",
    "using Makie\n",
    "using GLMakie\n",
    "using GeometryBasics\n",
    "using ProgressBars\n",
    "using Ripserer"
   ]
  },
  {
   "cell_type": "code",
   "execution_count": 2,
   "metadata": {},
   "outputs": [
    {
     "data": {
      "text/plain": [
       "loadsc (generic function with 1 method)"
      ]
     },
     "metadata": {},
     "output_type": "display_data"
    }
   ],
   "source": [
    "include(\"contractions.jl\")\n",
    "include(\"visualisation.jl\")\n",
    "include(\"preprocessing.jl\")"
   ]
  },
  {
   "cell_type": "code",
   "execution_count": 3,
   "metadata": {},
   "outputs": [
    {
     "name": "stderr",
     "output_type": "stream",
     "text": [
      "0.0%┣                                          ┫ 0/69.5k [00:00<-10:-31, -0s/it]\n",
      "0.0%┣                                        ┫ 1/69.5k [00:01<Inf:Inf, InfGs/it]\n",
      "2.6%┣█                                      ┫ 1.8k/69.5k [00:01<00:47, 1.4kit/s]\n",
      "6.5%┣██▌                                    ┫ 4.5k/69.5k [00:01<00:19, 3.4kit/s]\n",
      "10.8%┣████                                  ┫ 7.5k/69.5k [00:01<00:11, 5.5kit/s]\n",
      "14.9%┣█████▌                               ┫ 10.4k/69.5k [00:01<00:08, 7.3kit/s]\n",
      "18.7%┣███████                              ┫ 13.0k/69.5k [00:01<00:06, 8.8kit/s]\n",
      "22.7%┣████████▏                           ┫ 15.8k/69.5k [00:02<00:05, 10.4kit/s]\n",
      "26.5%┣█████████▌                          ┫ 18.4k/69.5k [00:02<00:04, 11.7kit/s]\n",
      "30.2%┣██████████▉                         ┫ 21.0k/69.5k [00:02<00:04, 12.9kit/s]\n",
      "34.0%┣████████████▎                       ┫ 23.6k/69.5k [00:02<00:03, 14.2kit/s]\n",
      "38.0%┣█████████████▊                      ┫ 26.4k/69.5k [00:02<00:03, 15.3kit/s]\n",
      "42.3%┣███████████████▎                    ┫ 29.4k/69.5k [00:02<00:02, 16.6kit/s]\n",
      "46.5%┣████████████████▊                   ┫ 32.3k/69.5k [00:02<00:02, 17.7kit/s]\n",
      "50.6%┣██████████████████▏                 ┫ 35.1k/69.5k [00:02<00:02, 18.8kit/s]\n",
      "54.7%┣███████████████████▊                ┫ 38.0k/69.5k [00:02<00:02, 19.8kit/s]\n",
      "57.5%┣████████████████████▊               ┫ 39.9k/69.5k [00:02<00:02, 19.6kit/s]\n",
      "61.8%┣██████████████████████▎             ┫ 42.9k/69.5k [00:02<00:01, 20.6kit/s]\n",
      "66.2%┣███████████████████████▉            ┫ 46.0k/69.5k [00:02<00:01, 21.5kit/s]\n",
      "70.2%┣█████████████████████████▎          ┫ 48.8k/69.5k [00:02<00:01, 22.3kit/s]\n",
      "74.0%┣██████████████████████████▋         ┫ 51.4k/69.5k [00:02<00:01, 23.0kit/s]\n",
      "77.9%┣████████████████████████████        ┫ 54.1k/69.5k [00:02<00:01, 23.6kit/s]\n",
      "82.2%┣█████████████████████████████▋      ┫ 57.1k/69.5k [00:02<00:01, 24.4kit/s]\n",
      "86.3%┣███████████████████████████████     ┫ 60.0k/69.5k [00:02<00:00, 25.1kit/s]\n",
      "90.5%┣████████████████████████████████▋   ┫ 62.9k/69.5k [00:02<00:00, 25.8kit/s]\n",
      "94.7%┣██████████████████████████████████  ┫ 65.8k/69.5k [00:02<00:00, 26.4kit/s]\n",
      "\u001b[1A"
     ]
    },
    {
     "name": "stdout",
     "output_type": "stream",
     "text": [
      "Get rotated lmao\n"
     ]
    },
    {
     "name": "stderr",
     "output_type": "stream",
     "text": [
      "99.0%┣███████████████████████████████████▋┫ 68.8k/69.5k [00:03<00:00, 27.1kit/s]\n",
      "100.0%┣███████████████████████████████████┫ 69.5k/69.5k [00:03<00:00, 27.2kit/s]\n",
      "100.0%┣███████████████████████████████████┫ 69.5k/69.5k [00:03<00:00, 27.2kit/s]\n"
     ]
    },
    {
     "name": "stdout",
     "output_type": "stream",
     "text": [
      "Finding buttholes\n",
      "Buttholes left: 223\n",
      "Buttholes left: 184\n",
      "Buttholes left: 142\n",
      "Buttholes left: 62\n",
      "Buttholes left: 22\n",
      "Constipating 5 buttholes\n"
     ]
    },
    {
     "name": "stderr",
     "output_type": "stream",
     "text": [
      "0.0%┣                                                ┫ 0/5 [00:00<00:00, -0s/it]\n",
      "20.0%┣████████▋                                  ┫ 1/5 [00:00<Inf:Inf, InfGs/it]\n",
      "100.0%┣██████████████████████████████████████████████┫ 5/5 [00:00<00:00, 40it/s]\n",
      "100.0%┣██████████████████████████████████████████████┫ 5/5 [00:00<00:00, 40it/s]\n"
     ]
    }
   ],
   "source": [
    "bunidata = loadsc(\"ply/bunny.ply\")\n",
    "\n",
    "# rotate by 90 degrees around the x-axis\n",
    "println(\"Get rotated lmao\")\n",
    "for vertex in bunidata.coords\n",
    "    vertex[2], vertex[3] = vertex[2] * cos(π / 2) - vertex[3] * sin(π / 2), vertex[2] * sin(π / 2) + vertex[3] * cos(π / 2)\n",
    "end\n",
    "\n",
    "buni = initialContractedSimplicialComplex2D(bunidata)\n",
    "butthole = getborder(buni.contracted)\n",
    "# convert Set{Tuple{Int64, Int64}}) to Array{GeometryBasics.Point{3,Float32}})\n",
    "butthole_array = collect(butthole)\n",
    "butthole = [GeometryBasics.Point3(buni.contracted.coords[butthole_array[i][1]]...) for i in 1:length(butthole_array)]\n",
    "fillholes!(buni.contracted)"
   ]
  },
  {
   "cell_type": "code",
   "execution_count": 4,
   "metadata": {},
   "outputs": [
    {
     "name": "stdout",
     "output_type": "stream",
     "text": [
      "Calculating fundamental quadratics\n",
      "Constructing initial priority queue\n"
     ]
    },
    {
     "name": "stderr",
     "output_type": "stream",
     "text": [
      "0.0%┣                                           ┫ 0/104.5k [00:00<00:-3, -0s/it]\n",
      "0.0%┣                                       ┫ 1/104.5k [00:01<Inf:Inf, InfGs/it]\n",
      "1.4%┣▌                                     ┫ 1.4k/104.5k [00:01<00:45, 2.3kit/s]\n",
      "5.0%┣██                                    ┫ 5.2k/104.5k [00:01<00:13, 7.7kit/s]\n",
      "8.7%┣███▏                                 ┫ 9.1k/104.5k [00:01<00:08, 12.5kit/s]\n",
      "12.2%┣████▎                              ┫ 12.8k/104.5k [00:01<00:06, 16.4kit/s]\n",
      "15.4%┣█████▍                             ┫ 16.1k/104.5k [00:01<00:05, 19.4kit/s]\n",
      "18.5%┣██████▌                            ┫ 19.3k/104.5k [00:01<00:04, 21.9kit/s]\n",
      "21.6%┣███████▌                           ┫ 22.5k/104.5k [00:01<00:03, 24.2kit/s]\n",
      "24.7%┣████████▋                          ┫ 25.8k/104.5k [00:01<00:03, 26.3kit/s]\n",
      "27.7%┣█████████▊                         ┫ 28.9k/104.5k [00:01<00:03, 28.0kit/s]\n",
      "30.5%┣██████████▋                        ┫ 31.8k/104.5k [00:01<00:02, 29.4kit/s]\n",
      "33.3%┣███████████▋                       ┫ 34.8k/104.5k [00:01<00:02, 30.7kit/s]\n",
      "36.2%┣████████████▊                      ┫ 37.8k/104.5k [00:01<00:02, 32.0kit/s]\n",
      "39.0%┣█████████████▋                     ┫ 40.8k/104.5k [00:01<00:02, 33.0kit/s]\n",
      "41.8%┣██████████████▋                    ┫ 43.7k/104.5k [00:01<00:02, 33.8kit/s]\n",
      "44.7%┣███████████████▋                   ┫ 46.7k/104.5k [00:01<00:02, 34.7kit/s]\n",
      "47.6%┣████████████████▊                  ┫ 49.8k/104.5k [00:01<00:02, 35.7kit/s]\n",
      "50.5%┣█████████████████▊                 ┫ 52.8k/104.5k [00:01<00:01, 36.6kit/s]\n",
      "53.5%┣██████████████████▊                ┫ 55.9k/104.5k [00:01<00:01, 37.4kit/s]\n",
      "53.5%┣██████████████████▊                ┫ 55.9k/104.5k [00:02<00:01, 33.5kit/s]\n",
      "57.1%┣████████████████████               ┫ 59.6k/104.5k [00:02<00:01, 34.7kit/s]\n",
      "60.5%┣█████████████████████▏             ┫ 63.3k/104.5k [00:02<00:01, 35.8kit/s]\n",
      "64.1%┣██████████████████████▍            ┫ 66.9k/104.5k [00:02<00:01, 36.8kit/s]\n",
      "67.7%┣███████████████████████▊           ┫ 70.8k/104.5k [00:02<00:01, 37.9kit/s]\n",
      "71.3%┣█████████████████████████          ┫ 74.6k/104.5k [00:02<00:01, 38.8kit/s]\n",
      "75.0%┣██████████████████████████▎        ┫ 78.4k/104.5k [00:02<00:01, 39.8kit/s]\n",
      "78.7%┣███████████████████████████▌       ┫ 82.2k/104.5k [00:02<00:01, 40.7kit/s]\n",
      "82.3%┣████████████████████████████▉      ┫ 86.0k/104.5k [00:02<00:00, 41.5kit/s]\n",
      "85.9%┣██████████████████████████████     ┫ 89.8k/104.5k [00:02<00:00, 42.3kit/s]\n",
      "89.3%┣███████████████████████████████▎   ┫ 93.4k/104.5k [00:02<00:00, 43.0kit/s]\n",
      "92.6%┣████████████████████████████████▍  ┫ 96.8k/104.5k [00:02<00:00, 43.6kit/s]\n",
      "95.9%┣████████████████████████████████▋ ┫ 100.2k/104.5k [00:02<00:00, 44.1kit/s]\n",
      "99.2%┣█████████████████████████████████▊┫ 103.7k/104.5k [00:02<00:00, 44.7kit/s]\n",
      "100.0%┣█████████████████████████████████┫ 104.5k/104.5k [00:02<00:00, 44.8kit/s]\n",
      "100.0%┣█████████████████████████████████┫ 104.5k/104.5k [00:02<00:00, 44.8kit/s]\n"
     ]
    }
   ],
   "source": [
    "println(\"Calculating fundamental quadratics\")\n",
    "calculateFundamentalQuadratics!(buni)\n",
    "\n",
    "println(\"Constructing initial priority queue\")\n",
    "pq = PriorityQueue()\n",
    "for (edge, triangle) in ProgressBar(buni.contracted._edge_to_triangles)\n",
    "    pq[edge] = error(buni, edge)\n",
    "end"
   ]
  },
  {
   "cell_type": "code",
   "execution_count": 5,
   "metadata": {},
   "outputs": [
    {
     "name": "stdout",
     "output_type": "stream",
     "text": [
      "34835\n"
     ]
    }
   ],
   "source": [
    "i = 0\n",
    "while true #i < 7486 # problematic edge: (31639, 31761)\n",
    "    global myedge\n",
    "    try\n",
    "        global myedge\n",
    "        myedge = dequeue!(pq)\n",
    "        while !issafe(buni.contracted, myedge)\n",
    "            myedge = dequeue!(pq)\n",
    "        end\n",
    "    catch e\n",
    "        break\n",
    "    end\n",
    "\n",
    "    new_vertex = contract!(buni, myedge)\n",
    "    for edge in buni.contracted._vertex_to_edges[new_vertex]\n",
    "        pq[edge] = error(buni, edge)\n",
    "    end\n",
    "    i += 1\n",
    "end\n",
    "println(i)"
   ]
  },
  {
   "cell_type": "code",
   "execution_count": null,
   "metadata": {},
   "outputs": [
    {
     "data": {
      "text/plain": [
       "4-element Vector{Vector{Float32}}:\n",
       " [-0.07527522, -0.024266982, 0.14042638]\n",
       " [-0.022113241, -0.05638052, 0.05141888]\n",
       " [-0.05251966, 0.029483637, 0.045751806]\n",
       " [0.060952816, -0.009483511, 0.098919116]"
      ]
     },
     "metadata": {},
     "output_type": "display_data"
    }
   ],
   "source": []
  },
  {
   "cell_type": "code",
   "execution_count": null,
   "metadata": {},
   "outputs": [],
   "source": [
    "vertices1 = [buni.original.coords[vertex] for vertex in buni.original.vertices]\n",
    "rips1 = ripserer(vertices1; dim_max=3)"
   ]
  }
 ],
 "metadata": {
  "kernelspec": {
   "display_name": "Julia 1.11.2",
   "language": "julia",
   "name": "julia-1.11"
  },
  "language_info": {
   "file_extension": ".jl",
   "mimetype": "application/julia",
   "name": "julia",
   "version": "1.11.2"
  }
 },
 "nbformat": 4,
 "nbformat_minor": 2
}
