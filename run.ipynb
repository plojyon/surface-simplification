{
 "cells": [
  {
   "cell_type": "code",
   "execution_count": 11,
   "metadata": {},
   "outputs": [],
   "source": [
    "using DataStructures\n",
    "using FileIO\n",
    "using Meshes\n",
    "using MeshIO\n",
    "using Makie\n",
    "using GLMakie\n",
    "using GeometryBasics\n",
    "using ProgressBars\n",
    "using JLD2\n",
    "using Serialization"
   ]
  },
  {
   "cell_type": "code",
   "execution_count": 238,
   "metadata": {},
   "outputs": [
    {
     "data": {
      "text/plain": [
       "loadsc (generic function with 1 method)"
      ]
     },
     "metadata": {},
     "output_type": "display_data"
    }
   ],
   "source": [
    "include(\"contractions.jl\")\n",
    "include(\"visualisation.jl\")\n",
    "include(\"preprocessing.jl\")"
   ]
  },
  {
   "cell_type": "code",
   "execution_count": 93,
   "metadata": {},
   "outputs": [
    {
     "name": "stderr",
     "output_type": "stream",
     "text": [
      "0.0%┣                                               ┫ 0/12 [00:00<00:00, -0s/it]\n",
      "8.3%┣███▋                                       ┫ 1/12 [00:00<Inf:Inf, InfGs/it]\n",
      "100.0%┣███████████████████████████████████████████┫ 12/12 [00:00<00:00, 186it/s]\n",
      "100.0%┣███████████████████████████████████████████┫ 12/12 [00:00<00:00, 185it/s]\n",
      "┌ Warning: `shading = false` is not valid. Use `Makie.automatic`, `NoShading`, `FastShading` or `MultiLightShading`. Defaulting to `NoShading`.\n",
      "└ @ Makie /home/yon/.julia/packages/Makie/pFPBw/src/lighting.jl:243\n",
      "┌ Warning: `shading = false` is not valid. Use `Makie.automatic`, `NoShading`, `FastShading` or `MultiLightShading`. Defaulting to `NoShading`.\n",
      "└ @ Makie /home/yon/.julia/packages/Makie/pFPBw/src/lighting.jl:243\n"
     ]
    },
    {
     "data": {
      "text/plain": [
       "GLMakie.Screen(...)"
      ]
     },
     "metadata": {},
     "output_type": "display_data"
    }
   ],
   "source": [
    "cubedata = loadsc(\"other_ply/cube.ply\")\n",
    "cube = initialContractedSimplicialComplex2D(cubedata)\n",
    "visualize(cube)"
   ]
  },
  {
   "cell_type": "code",
   "execution_count": 239,
   "metadata": {},
   "outputs": [],
   "source": [
    "bunidata = deserialize(\"bunidata.dat\")\n",
    "buni = initialContractedSimplicialComplex2D(bunidata)\n",
    "fillholes!(buni.contracted)\n",
    "calculateFundamentalQuadratics!(buni)"
   ]
  },
  {
   "cell_type": "code",
   "execution_count": 204,
   "metadata": {},
   "outputs": [
    {
     "data": {
      "text/plain": [
       "GLMakie.Screen(...)"
      ]
     },
     "metadata": {},
     "output_type": "display_data"
    }
   ],
   "source": [
    "marked_vertices = Set{Int}()\n",
    "for edge in getborder(buni.original)\n",
    "    push!(marked_vertices, edge[1])\n",
    "    push!(marked_vertices, edge[2])\n",
    "end\n",
    "marks::Vector{GeometryBasics.Point{3,Float32}} = [GeometryBasics.Point{3,Float32}(buni.original.coords[x]) for x in marked_vertices]\n",
    "visualize(buni, marks)"
   ]
  },
  {
   "cell_type": "code",
   "execution_count": 240,
   "metadata": {},
   "outputs": [
    {
     "name": "stderr",
     "output_type": "stream",
     "text": [
      "0.0%┣                                           ┫ 0/104.5k [00:00<00:-8, -0s/it]\n",
      "0.9%┣▍                                     ┫ 946/104.5k [00:00<00:08, 13.3kit/s]\n",
      "3.1%┣█▏                                   ┫ 3.2k/104.5k [00:00<00:04, 26.4kit/s]\n",
      "5.4%┣██                                   ┫ 5.7k/104.5k [00:00<00:03, 32.8kit/s]\n",
      "7.6%┣██▉                                  ┫ 7.9k/104.5k [00:00<00:03, 35.6kit/s]\n",
      "9.6%┣███▌                                ┫ 10.0k/104.5k [00:00<00:03, 36.5kit/s]\n",
      "11.6%┣████                               ┫ 12.1k/104.5k [00:00<00:02, 37.3kit/s]\n",
      "14.6%┣█████                              ┫ 15.2k/104.5k [00:00<00:02, 40.4kit/s]\n",
      "17.6%┣██████▏                            ┫ 18.4k/104.5k [00:00<00:02, 43.2kit/s]\n",
      "20.0%┣███████                            ┫ 20.9k/104.5k [00:00<00:02, 43.7kit/s]\n",
      "22.1%┣███████▊                           ┫ 23.1k/104.5k [00:01<00:02, 43.7kit/s]\n",
      "24.4%┣████████▌                          ┫ 25.5k/104.5k [00:01<00:02, 43.9kit/s]\n",
      "26.9%┣█████████▍                         ┫ 28.2k/104.5k [00:01<00:02, 44.6kit/s]\n",
      "29.9%┣██████████▌                        ┫ 31.3k/104.5k [00:01<00:02, 45.8kit/s]\n",
      "33.4%┣███████████▊                       ┫ 34.9k/104.5k [00:01<00:01, 47.6kit/s]\n",
      "36.4%┣████████████▊                      ┫ 38.1k/104.5k [00:01<00:01, 48.5kit/s]\n",
      "39.3%┣█████████████▊                     ┫ 41.1k/104.5k [00:01<00:01, 49.2kit/s]\n",
      "41.8%┣██████████████▋                    ┫ 43.7k/104.5k [00:01<00:01, 47.4kit/s]\n",
      "44.7%┣███████████████▋                   ┫ 46.7k/104.5k [00:01<00:01, 48.1kit/s]\n",
      "47.8%┣████████████████▊                  ┫ 50.0k/104.5k [00:01<00:01, 48.9kit/s]\n",
      "51.1%┣██████████████████                 ┫ 53.4k/104.5k [00:01<00:01, 49.8kit/s]\n",
      "54.2%┣███████████████████                ┫ 56.7k/104.5k [00:01<00:01, 50.4kit/s]\n",
      "56.8%┣███████████████████▉               ┫ 59.4k/104.5k [00:01<00:01, 50.5kit/s]\n",
      "59.0%┣████████████████████▋              ┫ 61.7k/104.5k [00:01<00:01, 50.3kit/s]\n",
      "61.3%┣█████████████████████▌             ┫ 64.1k/104.5k [00:01<00:01, 50.2kit/s]\n",
      "63.5%┣██████████████████████▏            ┫ 66.3k/104.5k [00:01<00:01, 49.9kit/s]\n",
      "65.5%┣███████████████████████            ┫ 68.4k/104.5k [00:01<00:01, 49.6kit/s]\n",
      "67.5%┣███████████████████████▋           ┫ 70.6k/104.5k [00:01<00:01, 49.3kit/s]\n",
      "69.5%┣████████████████████████▍          ┫ 72.7k/104.5k [00:01<00:01, 49.1kit/s]\n",
      "69.7%┣████████████████████████▍          ┫ 72.8k/104.5k [00:02<00:01, 30.8kit/s]\n",
      "72.7%┣█████████████████████████▌         ┫ 76.0k/104.5k [00:02<00:01, 31.4kit/s]\n",
      "76.2%┣██████████████████████████▊        ┫ 79.7k/104.5k [00:02<00:01, 32.3kit/s]\n",
      "79.6%┣███████████████████████████▉       ┫ 83.2k/104.5k [00:03<00:01, 33.0kit/s]\n",
      "82.5%┣████████████████████████████▉      ┫ 86.2k/104.5k [00:03<00:01, 33.5kit/s]\n",
      "85.3%┣█████████████████████████████▉     ┫ 89.2k/104.5k [00:03<00:00, 34.0kit/s]\n",
      "87.9%┣██████████████████████████████▊    ┫ 91.8k/104.5k [00:03<00:00, 34.4kit/s]\n",
      "91.7%┣████████████████████████████████   ┫ 95.8k/104.5k [00:03<00:00, 35.2kit/s]\n",
      "95.4%┣█████████████████████████████████▍ ┫ 99.7k/104.5k [00:03<00:00, 36.0kit/s]\n",
      "99.3%┣█████████████████████████████████▊┫ 103.7k/104.5k [00:03<00:00, 36.7kit/s]\n",
      "100.0%┣█████████████████████████████████┫ 104.5k/104.5k [00:03<00:00, 36.9kit/s]\n",
      "100.0%┣█████████████████████████████████┫ 104.5k/104.5k [00:03<00:00, 36.9kit/s]\n"
     ]
    }
   ],
   "source": [
    "pq = PriorityQueue()\n",
    "for (edge, triangle) in ProgressBar(buni.contracted._edge_to_triangles)\n",
    "    pq[edge] = error(buni, edge)\n",
    "end"
   ]
  },
  {
   "cell_type": "code",
   "execution_count": 241,
   "metadata": {},
   "outputs": [],
   "source": [
    "for vx in buni.contracted.vertices\n",
    "    edgs = buni.contracted._vertex_to_edges[vx]\n",
    "    triangls = Set(union([buni.contracted._edge_to_triangles[edge] for edge in edgs]...))\n",
    "end"
   ]
  },
  {
   "cell_type": "code",
   "execution_count": null,
   "metadata": {},
   "outputs": [
    {
     "data": {
      "text/plain": [
       "(16236, 16421)"
      ]
     },
     "metadata": {},
     "output_type": "display_data"
    }
   ],
   "source": [
    "edgs = Vector{Tuple{Int,Int}}()"
   ]
  },
  {
   "cell_type": "code",
   "execution_count": 235,
   "metadata": {},
   "outputs": [],
   "source": [
    "myedge = dequeue!(pq)\n",
    "while !issafe(buni.contracted, myedge)\n",
    "    myedge = dequeue!(pq)\n",
    "end\n",
    "\n",
    "new_vertex = contract!(buni, myedge)\n",
    "for edge in buni.contracted._vertex_to_edges[new_vertex]\n",
    "    pq[edge] = error(buni, edge)\n",
    "end"
   ]
  },
  {
   "cell_type": "code",
   "execution_count": null,
   "metadata": {},
   "outputs": [
    {
     "name": "stderr",
     "output_type": "stream",
     "text": [
      "0.0%┣                                                ┫ 0/3 [00:00<00:00, -0s/it]\n",
      "100.0%┣█████████████████████████████████████████████┫ 3/3 [00:00<00:00, 600it/s]\n",
      "100.0%┣█████████████████████████████████████████████┫ 3/3 [00:00<00:00, 528it/s]\n"
     ]
    }
   ],
   "source": [
    "for _ in ProgressBar(1:3)\n",
    "    myedge = dequeue!(pq)\n",
    "    while !issafe(buni.contracted, myedge)\n",
    "        myedge = dequeue!(pq)\n",
    "    end\n",
    "\n",
    "    new_vertex = contract!(buni, myedge)\n",
    "    for edge in buni.contracted._vertex_to_edges[new_vertex]\n",
    "        pq[edge] = error(buni, edge)\n",
    "    end\n",
    "end"
   ]
  }
 ],
 "metadata": {
  "kernelspec": {
   "display_name": "Julia 1.11.2",
   "language": "julia",
   "name": "julia-1.11"
  },
  "language_info": {
   "file_extension": ".jl",
   "mimetype": "application/julia",
   "name": "julia",
   "version": "1.11.2"
  }
 },
 "nbformat": 4,
 "nbformat_minor": 2
}
